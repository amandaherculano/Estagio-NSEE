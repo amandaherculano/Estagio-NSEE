{
 "cells": [
  {
   "cell_type": "markdown",
   "metadata": {},
   "source": [
    "# Estagio CD&IA - Desafio\n"
   ]
  },
  {
   "cell_type": "markdown",
   "metadata": {},
   "source": [
    "### Importação"
   ]
  },
  {
   "cell_type": "code",
   "execution_count": 4,
   "metadata": {},
   "outputs": [],
   "source": [
    "from dbfread import DBF\n",
    "import pandas as pd\n",
    "\n"
   ]
  },
  {
   "cell_type": "code",
   "execution_count": 5,
   "metadata": {},
   "outputs": [],
   "source": [
    "# Path to the .dbf file on your computer\n",
    "file_path = r'c:\\Users\\alexa\\Downloads\\pacigeral_jun24.dbf'\n",
    "\n",
    "# Read the DBF file with correct encoding\n",
    "table = DBF(file_path, encoding='latin1')"
   ]
  },
  {
   "cell_type": "code",
   "execution_count": 1,
   "metadata": {},
   "outputs": [],
   "source": [
    "import csv"
   ]
  },
  {
   "cell_type": "code",
   "execution_count": 6,
   "metadata": {},
   "outputs": [],
   "source": [
    "output_csv = r'C:\\Users\\alexa\\Downloads\\pacigeral_jun24.csv'\n",
    "\n",
    "# Abrir o arquivo CSV para escrita\n",
    "with open(output_csv, 'w', newline='', encoding='utf-8') as csvfile:\n",
    "    writer = csv.writer(csvfile)\n",
    "    \n",
    "    # Escrever cabeçalhos das colunas (os nomes dos campos do DBF)\n",
    "    writer.writerow(table.field_names)\n",
    "    \n",
    "    # Escrever os registros no arquivo CSV\n",
    "    for record in table:\n",
    "        writer.writerow(list(record.values()))"
   ]
  },
  {
   "cell_type": "code",
   "execution_count": 7,
   "metadata": {},
   "outputs": [
    {
     "name": "stderr",
     "output_type": "stream",
     "text": [
      "C:\\Users\\alexa\\AppData\\Local\\Temp\\ipykernel_9252\\863428836.py:5: DtypeWarning: Columns (37,38,39,40,77,78,79,82,93,94,95) have mixed types. Specify dtype option on import or set low_memory=False.\n",
      "  df = pd.read_csv(csv_file_path)\n"
     ]
    },
    {
     "name": "stdout",
     "output_type": "stream",
     "text": [
      "   INSTITU                   DSCINST  ESCOLARI  IDADE  SEXO UFNASC UFRESID  \\\n",
      "0    22950  HOSP CLINICAS DE MARILIA         3     78     2     SP      SP   \n",
      "1   612374                     ICESP         3     49     1     BA      BA   \n",
      "2     9326                   UNICAMP         9     50     1     SP      SP   \n",
      "3    20737              FUND PIO XII         4     33     1     SP      SP   \n",
      "4     9385   SANTA CASA DE SAO PAULO         9     23     1     SP      SP   \n",
      "\n",
      "      IBGE                CIDADE  CATEATEND  ... REC04  IBGEATEN  \\\n",
      "0  3534500        OSCAR BRESSANE          2  ...   NaN   3529005   \n",
      "1  2930709          SIMOES FILHO          2  ...   NaN   3550308   \n",
      "2  3531209   MONTE ALEGRE DO SUL          2  ...   NaN   3509502   \n",
      "3  3549409  SAO JOAQUIM DA BARRA          9  ...   NaN   3505500   \n",
      "4  3542602              REGISTRO          2  ...   NaN   3550308   \n",
      "\n",
      "                     DRSINST RRASINST  CIDADEINST HABILIT  \\\n",
      "0           DRS 09 - Marilia  RRAS 10     MARILIA       7   \n",
      "1  DRS 01 - Grande Sao Paulo  RRAS 06   SAO PAULO       6   \n",
      "2          DRS 07 - Campinas  RRAS 15    CAMPINAS       6   \n",
      "3          DRS 05 - Barretos  RRAS 13    BARRETOS       7   \n",
      "4  DRS 01 - Grande Sao Paulo  RRAS 06   SAO PAULO       3   \n",
      "\n",
      "                                     HABIT11 HABILIT1  HABILIT2    CIDADEH  \n",
      "0  CACON com Serviço de Oncologia Pediátrica        3         2    Marilia  \n",
      "1                                      CACON        3         2  São Paulo  \n",
      "2                                      CACON        3         2   Campinas  \n",
      "3  CACON com Serviço de Oncologia Pediátrica        3         2   Barretos  \n",
      "4          UNACON com Serviço de Hematologia        1         1  São Paulo  \n",
      "\n",
      "[5 rows x 105 columns]\n",
      "Formato do DataFrame: (1211630, 105)\n",
      "Colunas: Index(['INSTITU', 'DSCINST', 'ESCOLARI', 'IDADE', 'SEXO', 'UFNASC', 'UFRESID',\n",
      "       'IBGE', 'CIDADE', 'CATEATEND',\n",
      "       ...\n",
      "       'REC04', 'IBGEATEN', 'DRSINST', 'RRASINST', 'CIDADEINST', 'HABILIT',\n",
      "       'HABIT11', 'HABILIT1', 'HABILIT2', 'CIDADEH'],\n",
      "      dtype='object', length=105)\n",
      "<class 'pandas.core.frame.DataFrame'>\n",
      "RangeIndex: 1211630 entries, 0 to 1211629\n",
      "Columns: 105 entries, INSTITU to CIDADEH\n",
      "dtypes: float64(3), int64(55), object(47)\n",
      "memory usage: 970.6+ MB\n",
      "None\n"
     ]
    }
   ],
   "source": [
    "\n",
    "\n",
    "# Caminho do arquivo CSV gerado anteriormente\n",
    "csv_file_path = r'C:\\Users\\alexa\\Downloads\\pacigeral_jun24.csv'\n",
    "\n",
    "# Carregar o arquivo CSV no Pandas\n",
    "df = pd.read_csv(csv_file_path)\n",
    "\n",
    "# Exibir as primeiras linhas do DataFrame\n",
    "print(df.head())\n",
    "\n",
    "# Exibir o formato do DataFrame (número de linhas e colunas)\n",
    "print(f\"Formato do DataFrame: {df.shape}\")\n",
    "\n",
    "# Exibir as colunas do DataFrame\n",
    "print(f\"Colunas: {df.columns}\")\n",
    "\n",
    "# Exibir informações sobre os tipos de dados e valores faltantes\n",
    "print(df.info())\n"
   ]
  }
 ],
 "metadata": {
  "kernelspec": {
   "display_name": "Python 3",
   "language": "python",
   "name": "python3"
  },
  "language_info": {
   "codemirror_mode": {
    "name": "ipython",
    "version": 3
   },
   "file_extension": ".py",
   "mimetype": "text/x-python",
   "name": "python",
   "nbconvert_exporter": "python",
   "pygments_lexer": "ipython3",
   "version": "3.11.9"
  }
 },
 "nbformat": 4,
 "nbformat_minor": 2
}
