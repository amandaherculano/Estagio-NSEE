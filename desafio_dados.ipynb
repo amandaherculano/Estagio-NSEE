{
 "cells": [
  {
   "cell_type": "markdown",
   "metadata": {},
   "source": [
    "# Estagio CD&IA - Desafio\n"
   ]
  },
  {
   "cell_type": "markdown",
   "metadata": {},
   "source": [
    "### Importação"
   ]
  },
  {
   "cell_type": "code",
   "execution_count": 2,
   "metadata": {},
   "outputs": [],
   "source": [
    "from dbfread import DBF\n",
    "\n",
    "import pandas as pd"
   ]
  },
  {
   "cell_type": "code",
   "execution_count": 3,
   "metadata": {},
   "outputs": [],
   "source": [
    "# Caminho para o dbf file \n",
    "file_path = r'c:\\Users\\alexa\\Downloads\\pacigeral_jun24.dbf'\n",
    "\n",
    "# Ler dbf file com encoding latin1\n",
    "table = DBF(file_path, encoding='latin1')"
   ]
  },
  {
   "cell_type": "code",
   "execution_count": 4,
   "metadata": {},
   "outputs": [],
   "source": [
    "import csv"
   ]
  },
  {
   "cell_type": "code",
   "execution_count": 5,
   "metadata": {},
   "outputs": [],
   "source": [
    "# Arquivo novo, salvo em csv\n",
    "output_csv = r'C:\\Users\\alexa\\Downloads\\pacigeral_jun24.csv'\n",
    "\n",
    "# Abrir o arquivo CSV para escrita\n",
    "with open(output_csv, 'w', newline='', encoding='utf-8') as csvfile:\n",
    "    writer = csv.writer(csvfile)\n",
    "    \n",
    "    # Escrever cabeçalhos das colunas (os nomes dos campos do DBF)\n",
    "    writer.writerow(table.field_names)\n",
    "    \n",
    "    # Escrever os registros no arquivo CSV\n",
    "    for record in table:\n",
    "        writer.writerow(list(record.values()))"
   ]
  },
  {
   "cell_type": "code",
   "execution_count": 18,
   "metadata": {},
   "outputs": [
    {
     "name": "stderr",
     "output_type": "stream",
     "text": [
      "C:\\Users\\alexa\\AppData\\Local\\Temp\\ipykernel_4756\\572354950.py:5: DtypeWarning: Columns (37,38,39,40,77,78,79,82,93,94,95) have mixed types. Specify dtype option on import or set low_memory=False.\n",
      "  df = pd.read_csv(csv_file_path)\n"
     ]
    },
    {
     "name": "stdout",
     "output_type": "stream",
     "text": [
      "   INSTITU                   DSCINST  ESCOLARI  IDADE  SEXO UFNASC UFRESID  \\\n",
      "0    22950  HOSP CLINICAS DE MARILIA         3     78     2     SP      SP   \n",
      "1   612374                     ICESP         3     49     1     BA      BA   \n",
      "2     9326                   UNICAMP         9     50     1     SP      SP   \n",
      "3    20737              FUND PIO XII         4     33     1     SP      SP   \n",
      "4     9385   SANTA CASA DE SAO PAULO         9     23     1     SP      SP   \n",
      "\n",
      "      IBGE                CIDADE  CATEATEND  ... REC04  IBGEATEN  \\\n",
      "0  3534500        OSCAR BRESSANE          2  ...   NaN   3529005   \n",
      "1  2930709          SIMOES FILHO          2  ...   NaN   3550308   \n",
      "2  3531209   MONTE ALEGRE DO SUL          2  ...   NaN   3509502   \n",
      "3  3549409  SAO JOAQUIM DA BARRA          9  ...   NaN   3505500   \n",
      "4  3542602              REGISTRO          2  ...   NaN   3550308   \n",
      "\n",
      "                     DRSINST RRASINST  CIDADEINST HABILIT  \\\n",
      "0           DRS 09 - Marilia  RRAS 10     MARILIA       7   \n",
      "1  DRS 01 - Grande Sao Paulo  RRAS 06   SAO PAULO       6   \n",
      "2          DRS 07 - Campinas  RRAS 15    CAMPINAS       6   \n",
      "3          DRS 05 - Barretos  RRAS 13    BARRETOS       7   \n",
      "4  DRS 01 - Grande Sao Paulo  RRAS 06   SAO PAULO       3   \n",
      "\n",
      "                                     HABIT11 HABILIT1  HABILIT2    CIDADEH  \n",
      "0  CACON com Serviço de Oncologia Pediátrica        3         2    Marilia  \n",
      "1                                      CACON        3         2  São Paulo  \n",
      "2                                      CACON        3         2   Campinas  \n",
      "3  CACON com Serviço de Oncologia Pediátrica        3         2   Barretos  \n",
      "4          UNACON com Serviço de Hematologia        1         1  São Paulo  \n",
      "\n",
      "[5 rows x 105 columns]\n",
      "Formato do DataFrame: (1211630, 105)\n",
      "Colunas: Index(['INSTITU', 'DSCINST', 'ESCOLARI', 'IDADE', 'SEXO', 'UFNASC', 'UFRESID',\n",
      "       'IBGE', 'CIDADE', 'CATEATEND',\n",
      "       ...\n",
      "       'REC04', 'IBGEATEN', 'DRSINST', 'RRASINST', 'CIDADEINST', 'HABILIT',\n",
      "       'HABIT11', 'HABILIT1', 'HABILIT2', 'CIDADEH'],\n",
      "      dtype='object', length=105)\n",
      "<class 'pandas.core.frame.DataFrame'>\n",
      "RangeIndex: 1211630 entries, 0 to 1211629\n",
      "Columns: 105 entries, INSTITU to CIDADEH\n",
      "dtypes: float64(3), int64(55), object(47)\n",
      "memory usage: 970.6+ MB\n",
      "None\n"
     ]
    }
   ],
   "source": [
    "# Utilizar o arquivo csv criado\n",
    "csv_file_path = r'C:\\Users\\alexa\\Downloads\\pacigeral_jun24.csv'\n",
    "\n",
    "# Carregar o arquivo CSV no Pandas\n",
    "df = pd.read_csv(csv_file_path)\n",
    "\n",
    "\n",
    "# Teste! \n",
    "\n",
    "# Exibir as primeiras linhas do DataFrame\n",
    "print(df.head())\n",
    "\n",
    "# Exibir o formato do DataFrame (número de linhas e colunas)\n",
    "print(f\"Formato do DataFrame: {df.shape}\")\n",
    "\n",
    "# Exibir as colunas do DataFrame\n",
    "print(f\"Colunas: {df.columns}\")\n",
    "\n",
    "# Exibir informações sobre os tipos de dados e valores faltantes\n",
    "print(df.info())\n",
    "\n"
   ]
  },
  {
   "cell_type": "markdown",
   "metadata": {},
   "source": [
    "###  Seleção"
   ]
  },
  {
   "cell_type": "markdown",
   "metadata": {},
   "source": [
    "#### 1. Selecionar pacientes com Topografia de pulmão  (TOPOGRUP = 34)"
   ]
  },
  {
   "cell_type": "code",
   "execution_count": 19,
   "metadata": {},
   "outputs": [
    {
     "data": {
      "text/plain": [
       "(56800, 105)"
      ]
     },
     "execution_count": 19,
     "metadata": {},
     "output_type": "execute_result"
    }
   ],
   "source": [
    "df_pulmao = df[df.TOPOGRUP.isin(['C34'])]\n",
    "df_pulmao.TOPOGRUP.value_counts()\n",
    "df_pulmao.shape"
   ]
  },
  {
   "cell_type": "markdown",
   "metadata": {},
   "source": [
    "#### 2. Selecionar pacientes com estado de residência de São Paulo ( UFRESID = SP)"
   ]
  },
  {
   "cell_type": "code",
   "execution_count": 20,
   "metadata": {},
   "outputs": [
    {
     "data": {
      "text/plain": [
       "UFRESID\n",
       "SP    52205\n",
       "Name: count, dtype: int64"
      ]
     },
     "execution_count": 20,
     "metadata": {},
     "output_type": "execute_result"
    }
   ],
   "source": [
    "df_pulmao = df_pulmao[df_pulmao.UFRESID == 'SP']\n",
    "df_pulmao.UFRESID.value_counts()"
   ]
  },
  {
   "cell_type": "markdown",
   "metadata": {},
   "source": [
    "#### 3. Selecionar pacientes com Base do Diagnóstico com Confirmação Microscópica (BASEDIAG = 3)"
   ]
  },
  {
   "cell_type": "code",
   "execution_count": 21,
   "metadata": {},
   "outputs": [
    {
     "data": {
      "text/plain": [
       "BASEDIAG\n",
       "3    50583\n",
       "Name: count, dtype: int64"
      ]
     },
     "execution_count": 21,
     "metadata": {},
     "output_type": "execute_result"
    }
   ],
   "source": [
    "df_pulmao = df_pulmao[df_pulmao.BASEDIAG == 3]\n",
    "df_pulmao.BASEDIAG.value_counts()"
   ]
  },
  {
   "cell_type": "markdown",
   "metadata": {},
   "source": [
    "#### 4. Retirar categorias 0, X e Y da coluna ECGRUP"
   ]
  },
  {
   "cell_type": "code",
   "execution_count": 22,
   "metadata": {},
   "outputs": [
    {
     "data": {
      "text/plain": [
       "ECGRUP\n",
       "IV     25611\n",
       "III    11972\n",
       "I       4864\n",
       "II      2892\n",
       "Name: count, dtype: int64"
      ]
     },
     "execution_count": 22,
     "metadata": {},
     "output_type": "execute_result"
    }
   ],
   "source": [
    "df_pulmao = df_pulmao[~df_pulmao.ECGRUP.isin(['0', 'X', 'Y'])]\n",
    "df_pulmao.ECGRUP.value_counts()"
   ]
  },
  {
   "cell_type": "markdown",
   "metadata": {},
   "source": [
    "#### 5. Retirar pacientes que fizeram Hormonioterapia e TMO - TMO == 1 HORMONIO = 1"
   ]
  },
  {
   "cell_type": "code",
   "execution_count": 23,
   "metadata": {},
   "outputs": [
    {
     "name": "stdout",
     "output_type": "stream",
     "text": [
      "(45128, 105)\n"
     ]
    }
   ],
   "source": [
    "df_pulmao = df_pulmao[~((df_pulmao['HORMONIO'] == 1) | (df_pulmao['TMO'] == 1))]\n",
    "print(df_pulmao.shape)\n"
   ]
  },
  {
   "cell_type": "markdown",
   "metadata": {},
   "source": [
    "#### 6. Selecionar pacientes com Ano de Diagnóstico até 2019 (ANODIAG ¡= 2019)"
   ]
  },
  {
   "cell_type": "code",
   "execution_count": 24,
   "metadata": {},
   "outputs": [
    {
     "data": {
      "text/plain": [
       "ANODIAG\n",
       "2000    1382\n",
       "2001    1367\n",
       "2002    1474\n",
       "2003    1571\n",
       "2004    1693\n",
       "2005    1811\n",
       "2006    1633\n",
       "2007    1569\n",
       "2008    1725\n",
       "2009    1963\n",
       "2010    1950\n",
       "2011    2073\n",
       "2012    2098\n",
       "2013    2306\n",
       "2014    2412\n",
       "2015    2346\n",
       "2016    2439\n",
       "2017    2410\n",
       "2018    2261\n",
       "2019    2199\n",
       "Name: count, dtype: int64"
      ]
     },
     "execution_count": 24,
     "metadata": {},
     "output_type": "execute_result"
    }
   ],
   "source": [
    "df_pulmao = df_pulmao[~(df_pulmao.ANODIAG > 2019)]\n",
    "df_pulmao.ANODIAG.value_counts().sort_index()"
   ]
  },
  {
   "cell_type": "markdown",
   "metadata": {},
   "source": [
    "#### 7. Retirar pacientes com IDADE menor do que 20 anos"
   ]
  },
  {
   "cell_type": "code",
   "execution_count": 25,
   "metadata": {},
   "outputs": [
    {
     "data": {
      "text/plain": [
       "(38670, 105)"
      ]
     },
     "execution_count": 25,
     "metadata": {},
     "output_type": "execute_result"
    }
   ],
   "source": [
    "df_pulmao = df_pulmao[df_pulmao.IDADE >= 20]\n",
    "df_pulmao.IDADE.value_counts()\n",
    "df_pulmao.shape"
   ]
  },
  {
   "cell_type": "markdown",
   "metadata": {},
   "source": [
    "### Ajustes"
   ]
  },
  {
   "cell_type": "markdown",
   "metadata": {},
   "source": [
    "#### 8. Calcular a diferen¸ca em dias entre Diagnóstico e Consulta, Tratamento e Diagnóstico,\n",
    "Tratamento e Consulta, a partir dessas 3 datas (DTCONSULT, DTDIAG e DTTRAT).\n",
    "Após o cálculo, codificar as colunas da seguinte forma:\n",
    "\n",
    "• CONSDIAG – 0 = até 30 dias; 1 = entre 31 e 60 dias; 2 = mais de 61 dias;\n",
    "1\n",
    "\n",
    "• DIAGTRAT – 0 = até 60 dias; 1 = entre 61 e 90 dias; 2 = mais de 91 dias; 3 = Não tratou (datas de tratamento vazias);\n",
    "\n",
    "• TRATCONS – 0 = at´e 60 dias; 1 = entre 61 e 90 dias; 2 = mais de 91 dias; 3 = Não tratou (datas de tratamento vazias)."
   ]
  },
  {
   "cell_type": "code",
   "execution_count": 37,
   "metadata": {},
   "outputs": [
    {
     "data": {
      "text/plain": [
       "DTCONSULT    datetime64[ns]\n",
       "DTDIAG       datetime64[ns]\n",
       "DTTRAT       datetime64[ns]\n",
       "dtype: object"
      ]
     },
     "execution_count": 37,
     "metadata": {},
     "output_type": "execute_result"
    }
   ],
   "source": [
    "list_datas = ['DTCONSULT', 'DTDIAG', 'DTTRAT']\n",
    "\n",
    "for col_data in list_datas:\n",
    "    df_pulmao[col_data] = pd.to_datetime(df_pulmao[col_data])\n",
    "\n",
    "df_pulmao[list_datas].dtypes"
   ]
  },
  {
   "cell_type": "code",
   "execution_count": 38,
   "metadata": {},
   "outputs": [],
   "source": [
    "df_pulmao['CONSDIAG'] = (df_pulmao.DTDIAG - df_pulmao.DTCONSULT).dt.days\n",
    "df_pulmao['DIAGTRAT'] = (df_pulmao.DTTRAT - df_pulmao.DTDIAG).dt.days\n",
    "df_pulmao['TRATCONS'] = (df_pulmao.DTTRAT - df_pulmao.DTCONSULT).dt.days"
   ]
  },
  {
   "cell_type": "code",
   "execution_count": 39,
   "metadata": {},
   "outputs": [
    {
     "data": {
      "text/plain": [
       "CONSDIAG       0\n",
       "DIAGTRAT    6390\n",
       "TRATCONS    6390\n",
       "dtype: int64"
      ]
     },
     "execution_count": 39,
     "metadata": {},
     "output_type": "execute_result"
    }
   ],
   "source": [
    "# testar quando Nan tem, para poder conferir se os valores de 3 estao corretos \n",
    "df_pulmao[['CONSDIAG','DIAGTRAT', 'TRATCONS']].isna().sum()"
   ]
  },
  {
   "cell_type": "code",
   "execution_count": 40,
   "metadata": {},
   "outputs": [
    {
     "name": "stdout",
     "output_type": "stream",
     "text": [
      "CONSDIAG_CAT\n",
      "0    32637\n",
      "1     3413\n",
      "2     2620\n",
      "Name: count, dtype: int64\n",
      "DIAGTRAT_CAT\n",
      "0    23552\n",
      "3     6390\n",
      "2     4718\n",
      "1     4010\n",
      "Name: count, dtype: int64\n",
      "TRATCONS_CAT\n",
      "0    22568\n",
      "3     6390\n",
      "2     5582\n",
      "1     4130\n",
      "Name: count, dtype: int64\n"
     ]
    }
   ],
   "source": [
    "df_pulmao['CONSDIAG_CAT'] = [0 if consdiag <= 30 else 1 if consdiag <= 60 else 2 for consdiag in df_pulmao.CONSDIAG]\n",
    "\n",
    "df_pulmao['DIAGTRAT_CAT'] = [0 if diagtrat <= 60 else 1 if diagtrat <= 90 else 2 if diagtrat >= 91 else 3 for diagtrat in df_pulmao.DIAGTRAT]\n",
    "\n",
    "df_pulmao['TRATCONS_CAT'] = [0 if tratcons <= 60 else 1 if tratcons <=90 else 2 if tratcons >= 91 else 3 for tratcons in df_pulmao.TRATCONS]\n",
    "\n",
    "print(df_pulmao['CONSDIAG_CAT'].value_counts())\n",
    "print(df_pulmao['DIAGTRAT_CAT'].value_counts())\n",
    "print(df_pulmao['TRATCONS_CAT'].value_counts())\n"
   ]
  },
  {
   "cell_type": "markdown",
   "metadata": {},
   "source": [
    "#### 9. Extrair somente o número das colunas DRS e DRSINST ( não achei DRSINSTITU nos dados)"
   ]
  },
  {
   "cell_type": "code",
   "execution_count": 41,
   "metadata": {},
   "outputs": [
    {
     "name": "stdout",
     "output_type": "stream",
     "text": [
      "['DRS 10  Piracicaba' 'DRS 03  Araraquara' 'DRS 01  Grande Sao Paulo'\n",
      " 'DRS 07  Campinas' 'DRS 13  Ribeirao Preto' 'DRS 17  Taubate'\n",
      " 'DRS 15  Sao Jose do Rio Preto' 'DRS 16  Sorocaba' 'DRS 09  Marilia'\n",
      " 'DRS 04  Baixada Santista' 'DRS 06  Bauru' 'DRS 02  Aracatuba'\n",
      " 'DRS 11  Presidente Prudente' 'DRS 08  Franca' 'DRS 05  Barretos'\n",
      " 'DRS 14  Sao Joao da Boa Vista' 'DRS 12  Registro']\n",
      "['DRS 10 - Piracicaba' 'DRS 03 - Araraquara' 'DRS 01 - Grande Sao Paulo'\n",
      " 'DRS 07 - Campinas' 'DRS 13 - Ribeirao Preto' 'DRS 17 - Taubate'\n",
      " 'DRS 15 - Sao Jose do Rio Preto' 'DRS 16 - Sorocaba' 'DRS 09 - Marilia'\n",
      " 'DRS 04 - Baixada Santista' 'DRS 06 - Bauru' 'DRS 02 - Aracatuba'\n",
      " 'DRS 11 - Presidente Prudente' 'DRS 05 - Barretos' 'DRS 08 - Franca'\n",
      " 'DRS 12 - Registro' 'DRS 14 - Sao Joao da Boa Vista']\n"
     ]
    }
   ],
   "source": [
    "print(df_pulmao.DRS.unique())\n",
    "print(df_pulmao.DRSINST.unique())"
   ]
  },
  {
   "cell_type": "code",
   "execution_count": 42,
   "metadata": {},
   "outputs": [
    {
     "data": {
      "text/plain": [
       "nDRS\n",
       "1     18158\n",
       "15     2715\n",
       "7      2684\n",
       "6      2563\n",
       "13     1754\n",
       "10     1473\n",
       "17     1294\n",
       "9      1212\n",
       "3      1167\n",
       "16     1045\n",
       "5      1019\n",
       "2       850\n",
       "8       718\n",
       "14      711\n",
       "4       700\n",
       "11      532\n",
       "12       75\n",
       "Name: count, dtype: int64"
      ]
     },
     "execution_count": 42,
     "metadata": {},
     "output_type": "execute_result"
    }
   ],
   "source": [
    "drs_expand = df_pulmao.DRS.str.split(' ', expand=True)\n",
    "df_pulmao['nDRS'] = drs_expand[1].astype(int)\n",
    "df_pulmao['nDRS'].value_counts()"
   ]
  },
  {
   "cell_type": "code",
   "execution_count": 43,
   "metadata": {},
   "outputs": [
    {
     "data": {
      "text/plain": [
       "nDRSINST\n",
       "1     18158\n",
       "15     2715\n",
       "7      2684\n",
       "6      2563\n",
       "13     1754\n",
       "10     1473\n",
       "17     1294\n",
       "9      1212\n",
       "3      1167\n",
       "16     1045\n",
       "5      1019\n",
       "2       850\n",
       "8       718\n",
       "14      711\n",
       "4       700\n",
       "11      532\n",
       "12       75\n",
       "Name: count, dtype: int64"
      ]
     },
     "execution_count": 43,
     "metadata": {},
     "output_type": "execute_result"
    }
   ],
   "source": [
    "drs_expand = df_pulmao.DRS.str.split(' ', expand=True)\n",
    "df_pulmao['nDRSINST'] = drs_expand[1].astype(int)\n",
    "df_pulmao['nDRSINST'].value_counts()"
   ]
  },
  {
   "cell_type": "markdown",
   "metadata": {},
   "source": [
    "### Criação"
   ]
  },
  {
   "cell_type": "markdown",
   "metadata": {},
   "source": [
    "#### 10. Criar a coluna binária de óbito, a partir da coluna ULTINFO, onde as categorias 1 e 2 representam que o paciente está vivo e as 3 e 4 representam o óbito por qualquer motivo"
   ]
  },
  {
   "cell_type": "code",
   "execution_count": 48,
   "metadata": {},
   "outputs": [
    {
     "name": "stdout",
     "output_type": "stream",
     "text": [
      "ULTINFO\n",
      "3    31160\n",
      "4     3760\n",
      "2     2285\n",
      "1     1465\n",
      "Name: count, dtype: int64\n"
     ]
    }
   ],
   "source": [
    "# para conferir os valores de cada informacao com o obtido a seguir, classificando com 0 e 1\n",
    "print((df_pulmao['ULTINFO']).value_counts())"
   ]
  },
  {
   "cell_type": "code",
   "execution_count": 54,
   "metadata": {},
   "outputs": [
    {
     "name": "stdout",
     "output_type": "stream",
     "text": [
      "ULTIDIAG\n",
      "1    34920\n",
      "0     3750\n",
      "Name: count, dtype: int64\n"
     ]
    }
   ],
   "source": [
    "df_pulmao['ULTIDIAG'] = [0 if ultinfo in [1, 2] else 1 for ultinfo in df_pulmao['ULTINFO']]\n",
    "\n",
    "print(df_pulmao['ULTIDIAG'].value_counts())"
   ]
  },
  {
   "cell_type": "markdown",
   "metadata": {},
   "source": [
    "### Retirada de Colunas"
   ]
  },
  {
   "cell_type": "markdown",
   "metadata": {},
   "source": [
    "##### 11. Retirar as colunas:\n",
    "UFNASC, UFRESID, CIDADE, DTCONSULT, CLINICA , DTDIAG,\n",
    "BASEDIAG, TOPOGRUP, DESCTOPO, DESCMORFO, T, N, M, PT, PN,\n",
    "PM, S , G, LOCALTNM, IDMITOTIC, PSA, GLEASON, OUTRACLA,\n",
    "META01, META02, META03, META04, DTTRAT, NAOTRAT,\n",
    "TRATAMENTO, TRATHOSP, TRATFANTES, TRATFAPOS, HORMONIO,\n",
    "TMO, NENHUMANT, CIRURANT, RADIOANT, QUIMIOANT, HORMOANT,\n",
    "TMOANT, IMUNOANT, OUTROANT, HORMOAPOS, TMOAPOS, DTULTINFO,\n",
    "CICI , CICIGRUP, CICISUBGRU, FAIXAETAR, LATERALI, INSTORIG,\n",
    "RRAS, ERRO, DTRECIDIVA, RECNENHUM, RECLOCAL, RECREGIO,\n",
    "RECDIST, REC01, REC02, REC03, REC04, CIDO, DSCCIDO,\n",
    "HABILIT , HABIT11 , HABILIT1 , CIDADEH, PERDASEG\n"
   ]
  },
  {
   "cell_type": "code",
   "execution_count": 72,
   "metadata": {},
   "outputs": [
    {
     "name": "stdout",
     "output_type": "stream",
     "text": [
      "(38670, 41)\n"
     ]
    },
    {
     "data": {
      "text/html": [
       "<div>\n",
       "<style scoped>\n",
       "    .dataframe tbody tr th:only-of-type {\n",
       "        vertical-align: middle;\n",
       "    }\n",
       "\n",
       "    .dataframe tbody tr th {\n",
       "        vertical-align: top;\n",
       "    }\n",
       "\n",
       "    .dataframe thead th {\n",
       "        text-align: right;\n",
       "    }\n",
       "</style>\n",
       "<table border=\"1\" class=\"dataframe\">\n",
       "  <thead>\n",
       "    <tr style=\"text-align: right;\">\n",
       "      <th></th>\n",
       "      <th>INSTITU</th>\n",
       "      <th>DSCINST</th>\n",
       "      <th>ESCOLARI</th>\n",
       "      <th>IDADE</th>\n",
       "      <th>SEXO</th>\n",
       "      <th>IBGE</th>\n",
       "      <th>CATEATEND</th>\n",
       "      <th>DIAGPREV</th>\n",
       "      <th>TOPO</th>\n",
       "      <th>MORFO</th>\n",
       "      <th>...</th>\n",
       "      <th>DRSINST</th>\n",
       "      <th>RRASINST</th>\n",
       "      <th>CIDADEINST</th>\n",
       "      <th>HABILIT2</th>\n",
       "      <th>CONSDIAG_CAT</th>\n",
       "      <th>DIAGTRAT_CAT</th>\n",
       "      <th>TRATCONS_CAT</th>\n",
       "      <th>nDRS</th>\n",
       "      <th>nDRSINST</th>\n",
       "      <th>ULTIDIAG</th>\n",
       "    </tr>\n",
       "  </thead>\n",
       "  <tbody>\n",
       "    <tr>\n",
       "      <th>169</th>\n",
       "      <td>20230</td>\n",
       "      <td>SANTA CASA DE ARARAS</td>\n",
       "      <td>9</td>\n",
       "      <td>73</td>\n",
       "      <td>1</td>\n",
       "      <td>3503307</td>\n",
       "      <td>9</td>\n",
       "      <td>2</td>\n",
       "      <td>C340</td>\n",
       "      <td>82513</td>\n",
       "      <td>...</td>\n",
       "      <td>DRS 10 - Piracicaba</td>\n",
       "      <td>RRAS 14</td>\n",
       "      <td>ARARAS</td>\n",
       "      <td>1</td>\n",
       "      <td>0</td>\n",
       "      <td>0</td>\n",
       "      <td>0</td>\n",
       "      <td>10</td>\n",
       "      <td>10</td>\n",
       "      <td>1</td>\n",
       "    </tr>\n",
       "    <tr>\n",
       "      <th>171</th>\n",
       "      <td>20621</td>\n",
       "      <td>SANTA CASA DE ARARAQUARA</td>\n",
       "      <td>9</td>\n",
       "      <td>67</td>\n",
       "      <td>2</td>\n",
       "      <td>3529302</td>\n",
       "      <td>9</td>\n",
       "      <td>1</td>\n",
       "      <td>C340</td>\n",
       "      <td>82513</td>\n",
       "      <td>...</td>\n",
       "      <td>DRS 03 - Araraquara</td>\n",
       "      <td>RRAS 18</td>\n",
       "      <td>ARARAQUARA</td>\n",
       "      <td>1</td>\n",
       "      <td>0</td>\n",
       "      <td>0</td>\n",
       "      <td>0</td>\n",
       "      <td>3</td>\n",
       "      <td>3</td>\n",
       "      <td>0</td>\n",
       "    </tr>\n",
       "    <tr>\n",
       "      <th>172</th>\n",
       "      <td>18058</td>\n",
       "      <td>HOSP ANCHIETA  FUNDACAO ABC</td>\n",
       "      <td>2</td>\n",
       "      <td>72</td>\n",
       "      <td>2</td>\n",
       "      <td>3548708</td>\n",
       "      <td>2</td>\n",
       "      <td>2</td>\n",
       "      <td>C340</td>\n",
       "      <td>82513</td>\n",
       "      <td>...</td>\n",
       "      <td>DRS 01 - Grande Sao Paulo</td>\n",
       "      <td>RRAS 01</td>\n",
       "      <td>SAO BERNARDO DO CAMPO</td>\n",
       "      <td>1</td>\n",
       "      <td>0</td>\n",
       "      <td>1</td>\n",
       "      <td>0</td>\n",
       "      <td>1</td>\n",
       "      <td>1</td>\n",
       "      <td>1</td>\n",
       "    </tr>\n",
       "  </tbody>\n",
       "</table>\n",
       "<p>3 rows × 41 columns</p>\n",
       "</div>"
      ],
      "text/plain": [
       "     INSTITU                      DSCINST  ESCOLARI  IDADE  SEXO     IBGE  \\\n",
       "169    20230         SANTA CASA DE ARARAS         9     73     1  3503307   \n",
       "171    20621     SANTA CASA DE ARARAQUARA         9     67     2  3529302   \n",
       "172    18058  HOSP ANCHIETA  FUNDACAO ABC         2     72     2  3548708   \n",
       "\n",
       "     CATEATEND  DIAGPREV  TOPO  MORFO  ...                    DRSINST  \\\n",
       "169          9         2  C340  82513  ...        DRS 10 - Piracicaba   \n",
       "171          9         1  C340  82513  ...        DRS 03 - Araraquara   \n",
       "172          2         2  C340  82513  ...  DRS 01 - Grande Sao Paulo   \n",
       "\n",
       "    RRASINST             CIDADEINST  HABILIT2  CONSDIAG_CAT  DIAGTRAT_CAT  \\\n",
       "169  RRAS 14                 ARARAS         1             0             0   \n",
       "171  RRAS 18             ARARAQUARA         1             0             0   \n",
       "172  RRAS 01  SAO BERNARDO DO CAMPO         1             0             1   \n",
       "\n",
       "     TRATCONS_CAT  nDRS  nDRSINST  ULTIDIAG  \n",
       "169             0    10        10         1  \n",
       "171             0     3         3         0  \n",
       "172             0     1         1         1  \n",
       "\n",
       "[3 rows x 41 columns]"
      ]
     },
     "execution_count": 72,
     "metadata": {},
     "output_type": "execute_result"
    }
   ],
   "source": [
    "list_drop = [ 'UFNASC', 'UFRESID', 'CIDADE', 'DTCONSULT', 'CLINICA', 'DTDIAG', 'BASEDIAG', 'TOPOGRUP', 'DESCTOPO', 'DESCMORFO', 'T', 'N', 'M', 'PT', 'PN', 'PM', 'S', 'G', 'LOCALTNM', 'IDMITOTIC', 'PSA',  'GLEASON', 'OUTRACLA', 'META01', 'META02', 'META03', 'META04', 'DTTRAT', 'NAOTRAT', 'TRATAMENTO', 'TRATHOSP', 'TRATFANTES', 'TRATFAPOS', 'HORMONIO', 'TMO', 'NENHUMANT', 'CIRURANT', 'RADIOANT', 'QUIMIOANT', 'HORMOANT', 'TMOANT', 'IMUNOANT', 'OUTROANT', 'HORMOAPOS', 'TMOAPOS', 'DTULTINFO', 'CICI', 'CICIGRUP', 'CICISUBGRU', 'FAIXAETAR', 'LATERALI', 'INSTORIG', 'RRAS', 'ERRO', 'DTRECIDIVA', 'RECNENHUM', 'RECLOCAL', 'RECREGIO', 'RECDIST', 'REC01', 'REC02', 'REC03', 'REC04', 'CIDO', 'DESCIDO', 'HABILIT', 'HABIT11', 'HABILIT1', 'CIDADEH', 'PERDASEG']\n",
    "\n",
    "df_pulmao = df_pulmao.drop(columns=list_drop)\n",
    "\n",
    "print(df_pulmao.shape)\n",
    "df_pulmao.head(3)"
   ]
  }
 ],
 "metadata": {
  "kernelspec": {
   "display_name": "Python 3",
   "language": "python",
   "name": "python3"
  },
  "language_info": {
   "codemirror_mode": {
    "name": "ipython",
    "version": 3
   },
   "file_extension": ".py",
   "mimetype": "text/x-python",
   "name": "python",
   "nbconvert_exporter": "python",
   "pygments_lexer": "ipython3",
   "version": "3.11.9"
  }
 },
 "nbformat": 4,
 "nbformat_minor": 2
}
