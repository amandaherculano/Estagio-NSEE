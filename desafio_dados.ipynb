{
 "cells": [
  {
   "cell_type": "markdown",
   "metadata": {},
   "source": [
    "# Estagio CD&IA - Desafio\n"
   ]
  },
  {
   "cell_type": "markdown",
   "metadata": {},
   "source": [
    "### Importação"
   ]
  },
  {
   "cell_type": "code",
   "execution_count": 29,
   "metadata": {},
   "outputs": [],
   "source": [
    "from dbfread import DBF\n",
    "\n",
    "import pandas as pd"
   ]
  },
  {
   "cell_type": "code",
   "execution_count": 30,
   "metadata": {},
   "outputs": [],
   "source": [
    "# Caminho para o dbf file \n",
    "file_path = r'c:\\Users\\alexa\\Downloads\\pacigeral_jun24.dbf'\n",
    "\n",
    "# Ler dbf file com encoding latin1\n",
    "table = DBF(file_path, encoding='latin1')"
   ]
  },
  {
   "cell_type": "code",
   "execution_count": 31,
   "metadata": {},
   "outputs": [],
   "source": [
    "import csv"
   ]
  },
  {
   "cell_type": "code",
   "execution_count": 32,
   "metadata": {},
   "outputs": [],
   "source": [
    "# Arquivo novo, salvo em csv\n",
    "output_csv = r'C:\\Users\\alexa\\Downloads\\pacigeral_jun24.csv'\n",
    "\n",
    "# Abrir o arquivo CSV para escrita\n",
    "with open(output_csv, 'w', newline='', encoding='utf-8') as csvfile:\n",
    "    writer = csv.writer(csvfile)\n",
    "    \n",
    "    # Escrever cabeçalhos das colunas (os nomes dos campos do DBF)\n",
    "    writer.writerow(table.field_names)\n",
    "    \n",
    "    # Escrever os registros no arquivo CSV\n",
    "    for record in table:\n",
    "        writer.writerow(list(record.values()))"
   ]
  },
  {
   "cell_type": "code",
   "execution_count": 33,
   "metadata": {},
   "outputs": [
    {
     "name": "stderr",
     "output_type": "stream",
     "text": [
      "C:\\Users\\alexa\\AppData\\Local\\Temp\\ipykernel_23004\\572354950.py:5: DtypeWarning: Columns (37,38,39,40,77,78,79,82,93,94,95) have mixed types. Specify dtype option on import or set low_memory=False.\n",
      "  df = pd.read_csv(csv_file_path)\n"
     ]
    },
    {
     "name": "stdout",
     "output_type": "stream",
     "text": [
      "   INSTITU                   DSCINST  ESCOLARI  IDADE  SEXO UFNASC UFRESID  \\\n",
      "0    22950  HOSP CLINICAS DE MARILIA         3     78     2     SP      SP   \n",
      "1   612374                     ICESP         3     49     1     BA      BA   \n",
      "2     9326                   UNICAMP         9     50     1     SP      SP   \n",
      "3    20737              FUND PIO XII         4     33     1     SP      SP   \n",
      "4     9385   SANTA CASA DE SAO PAULO         9     23     1     SP      SP   \n",
      "\n",
      "      IBGE                CIDADE  CATEATEND  ... REC04  IBGEATEN  \\\n",
      "0  3534500        OSCAR BRESSANE          2  ...   NaN   3529005   \n",
      "1  2930709          SIMOES FILHO          2  ...   NaN   3550308   \n",
      "2  3531209   MONTE ALEGRE DO SUL          2  ...   NaN   3509502   \n",
      "3  3549409  SAO JOAQUIM DA BARRA          9  ...   NaN   3505500   \n",
      "4  3542602              REGISTRO          2  ...   NaN   3550308   \n",
      "\n",
      "                     DRSINST RRASINST  CIDADEINST HABILIT  \\\n",
      "0           DRS 09 - Marilia  RRAS 10     MARILIA       7   \n",
      "1  DRS 01 - Grande Sao Paulo  RRAS 06   SAO PAULO       6   \n",
      "2          DRS 07 - Campinas  RRAS 15    CAMPINAS       6   \n",
      "3          DRS 05 - Barretos  RRAS 13    BARRETOS       7   \n",
      "4  DRS 01 - Grande Sao Paulo  RRAS 06   SAO PAULO       3   \n",
      "\n",
      "                                     HABIT11 HABILIT1  HABILIT2    CIDADEH  \n",
      "0  CACON com Serviço de Oncologia Pediátrica        3         2    Marilia  \n",
      "1                                      CACON        3         2  São Paulo  \n",
      "2                                      CACON        3         2   Campinas  \n",
      "3  CACON com Serviço de Oncologia Pediátrica        3         2   Barretos  \n",
      "4          UNACON com Serviço de Hematologia        1         1  São Paulo  \n",
      "\n",
      "[5 rows x 105 columns]\n",
      "Formato do DataFrame: (1211630, 105)\n",
      "Colunas: Index(['INSTITU', 'DSCINST', 'ESCOLARI', 'IDADE', 'SEXO', 'UFNASC', 'UFRESID',\n",
      "       'IBGE', 'CIDADE', 'CATEATEND',\n",
      "       ...\n",
      "       'REC04', 'IBGEATEN', 'DRSINST', 'RRASINST', 'CIDADEINST', 'HABILIT',\n",
      "       'HABIT11', 'HABILIT1', 'HABILIT2', 'CIDADEH'],\n",
      "      dtype='object', length=105)\n",
      "<class 'pandas.core.frame.DataFrame'>\n",
      "RangeIndex: 1211630 entries, 0 to 1211629\n",
      "Columns: 105 entries, INSTITU to CIDADEH\n",
      "dtypes: float64(3), int64(55), object(47)\n",
      "memory usage: 970.6+ MB\n",
      "None\n"
     ]
    }
   ],
   "source": [
    "# Utilizar o arquivo csv criado\n",
    "csv_file_path = r'C:\\Users\\alexa\\Downloads\\pacigeral_jun24.csv'\n",
    "\n",
    "# Carregar o arquivo CSV no Pandas\n",
    "df = pd.read_csv(csv_file_path)\n",
    "\n",
    "\n",
    "# Teste! \n",
    "\n",
    "# Exibir as primeiras linhas do DataFrame\n",
    "print(df.head())\n",
    "\n",
    "# Exibir o formato do DataFrame (número de linhas e colunas)\n",
    "print(f\"Formato do DataFrame: {df.shape}\")\n",
    "\n",
    "# Exibir as colunas do DataFrame\n",
    "print(f\"Colunas: {df.columns}\")\n",
    "\n",
    "# Exibir informações sobre os tipos de dados e valores faltantes\n",
    "print(df.info())\n",
    "\n"
   ]
  },
  {
   "cell_type": "markdown",
   "metadata": {},
   "source": [
    "###  Seleção"
   ]
  },
  {
   "cell_type": "markdown",
   "metadata": {},
   "source": [
    "#### 1. Selecionar pacientes com Topografia de pulmão  (TOPOGRUP = 34)"
   ]
  },
  {
   "cell_type": "code",
   "execution_count": 34,
   "metadata": {},
   "outputs": [
    {
     "data": {
      "text/plain": [
       "(56800, 105)"
      ]
     },
     "execution_count": 34,
     "metadata": {},
     "output_type": "execute_result"
    }
   ],
   "source": [
    "df_pulmao = df[df.TOPOGRUP.isin(['C34'])]\n",
    "df_pulmao.TOPOGRUP.value_counts()\n",
    "df_pulmao.shape"
   ]
  },
  {
   "cell_type": "markdown",
   "metadata": {},
   "source": [
    "#### 2. Selecionar pacientes com estado de residência de São Paulo ( UFRESID = SP)"
   ]
  },
  {
   "cell_type": "code",
   "execution_count": 35,
   "metadata": {},
   "outputs": [
    {
     "data": {
      "text/plain": [
       "UFRESID\n",
       "SP    52205\n",
       "Name: count, dtype: int64"
      ]
     },
     "execution_count": 35,
     "metadata": {},
     "output_type": "execute_result"
    }
   ],
   "source": [
    "df_pulmao = df_pulmao[df_pulmao.UFRESID == 'SP']\n",
    "df_pulmao.UFRESID.value_counts()"
   ]
  },
  {
   "cell_type": "markdown",
   "metadata": {},
   "source": [
    "#### 3. Selecionar pacientes com Base do Diagnóstico com Confirmação Microscópica (BASEDIAG = 3)"
   ]
  },
  {
   "cell_type": "code",
   "execution_count": 36,
   "metadata": {},
   "outputs": [
    {
     "data": {
      "text/plain": [
       "BASEDIAG\n",
       "3    50583\n",
       "Name: count, dtype: int64"
      ]
     },
     "execution_count": 36,
     "metadata": {},
     "output_type": "execute_result"
    }
   ],
   "source": [
    "df_pulmao = df_pulmao[df_pulmao.BASEDIAG == 3]\n",
    "df_pulmao.BASEDIAG.value_counts()"
   ]
  },
  {
   "cell_type": "markdown",
   "metadata": {},
   "source": [
    "#### 4. Retirar categorias 0, X e Y da coluna ECGRUP"
   ]
  },
  {
   "cell_type": "code",
   "execution_count": 37,
   "metadata": {},
   "outputs": [
    {
     "data": {
      "text/plain": [
       "ECGRUP\n",
       "IV     25611\n",
       "III    11972\n",
       "I       4864\n",
       "II      2892\n",
       "Name: count, dtype: int64"
      ]
     },
     "execution_count": 37,
     "metadata": {},
     "output_type": "execute_result"
    }
   ],
   "source": [
    "df_pulmao = df_pulmao[~df_pulmao.ECGRUP.isin(['0', 'X', 'Y'])]\n",
    "df_pulmao.ECGRUP.value_counts()"
   ]
  },
  {
   "cell_type": "markdown",
   "metadata": {},
   "source": [
    "#### 5. Retirar pacientes que fizeram Hormonioterapia e TMO - TMO == 1 HORMONIO = 1"
   ]
  },
  {
   "cell_type": "code",
   "execution_count": 38,
   "metadata": {},
   "outputs": [
    {
     "name": "stdout",
     "output_type": "stream",
     "text": [
      "(45128, 105)\n"
     ]
    }
   ],
   "source": [
    "df_pulmao = df_pulmao[~((df_pulmao['HORMONIO'] == 1) | (df_pulmao['TMO'] == 1))]\n",
    "print(df_pulmao.shape)\n"
   ]
  },
  {
   "cell_type": "markdown",
   "metadata": {},
   "source": [
    "#### 6. Selecionar pacientes com Ano de Diagnóstico até 2019 (ANODIAG ¡= 2019)"
   ]
  },
  {
   "cell_type": "code",
   "execution_count": 39,
   "metadata": {},
   "outputs": [
    {
     "data": {
      "text/plain": [
       "ANODIAG\n",
       "2000    1382\n",
       "2001    1367\n",
       "2002    1474\n",
       "2003    1571\n",
       "2004    1693\n",
       "2005    1811\n",
       "2006    1633\n",
       "2007    1569\n",
       "2008    1725\n",
       "2009    1963\n",
       "2010    1950\n",
       "2011    2073\n",
       "2012    2098\n",
       "2013    2306\n",
       "2014    2412\n",
       "2015    2346\n",
       "2016    2439\n",
       "2017    2410\n",
       "2018    2261\n",
       "2019    2199\n",
       "Name: count, dtype: int64"
      ]
     },
     "execution_count": 39,
     "metadata": {},
     "output_type": "execute_result"
    }
   ],
   "source": [
    "df_pulmao = df_pulmao[~(df_pulmao.ANODIAG > 2019)]\n",
    "df_pulmao.ANODIAG.value_counts().sort_index()"
   ]
  },
  {
   "cell_type": "markdown",
   "metadata": {},
   "source": [
    "#### 7. Retirar pacientes com IDADE menor do que 20 anos"
   ]
  },
  {
   "cell_type": "code",
   "execution_count": 40,
   "metadata": {},
   "outputs": [
    {
     "data": {
      "text/plain": [
       "(38670, 105)"
      ]
     },
     "execution_count": 40,
     "metadata": {},
     "output_type": "execute_result"
    }
   ],
   "source": [
    "df_pulmao = df_pulmao[df_pulmao.IDADE >= 20]\n",
    "df_pulmao.IDADE.value_counts()\n",
    "df_pulmao.shape"
   ]
  },
  {
   "cell_type": "markdown",
   "metadata": {},
   "source": [
    "### Ajustes"
   ]
  },
  {
   "cell_type": "markdown",
   "metadata": {},
   "source": [
    "#### 8. Calcular a diferen¸ca em dias entre Diagnóstico e Consulta, Tratamento e Diagnóstico,\n",
    "Tratamento e Consulta, a partir dessas 3 datas (DTCONSULT, DTDIAG e DTTRAT).\n",
    "Após o cálculo, codificar as colunas da seguinte forma:\n",
    "\n",
    "• CONSDIAG – 0 = até 30 dias; 1 = entre 31 e 60 dias; 2 = mais de 61 dias;\n",
    "1\n",
    "\n",
    "• DIAGTRAT – 0 = até 60 dias; 1 = entre 61 e 90 dias; 2 = mais de 91 dias; 3 = Não tratou (datas de tratamento vazias);\n",
    "\n",
    "• TRATCONS – 0 = at´e 60 dias; 1 = entre 61 e 90 dias; 2 = mais de 91 dias; 3 = Não tratou (datas de tratamento vazias)."
   ]
  },
  {
   "cell_type": "code",
   "execution_count": 41,
   "metadata": {},
   "outputs": [
    {
     "data": {
      "text/plain": [
       "DTCONSULT    datetime64[ns]\n",
       "DTDIAG       datetime64[ns]\n",
       "DTTRAT       datetime64[ns]\n",
       "dtype: object"
      ]
     },
     "execution_count": 41,
     "metadata": {},
     "output_type": "execute_result"
    }
   ],
   "source": [
    "list_datas = ['DTCONSULT', 'DTDIAG', 'DTTRAT']\n",
    "\n",
    "for col_data in list_datas:\n",
    "    df_pulmao[col_data] = pd.to_datetime(df_pulmao[col_data])\n",
    "\n",
    "df_pulmao[list_datas].dtypes"
   ]
  },
  {
   "cell_type": "code",
   "execution_count": 42,
   "metadata": {},
   "outputs": [],
   "source": [
    "df_pulmao['CONSDIAG'] = (df_pulmao.DTDIAG - df_pulmao.DTCONSULT).dt.days\n",
    "df_pulmao['DIAGTRAT'] = (df_pulmao.DTTRAT - df_pulmao.DTDIAG).dt.days\n",
    "df_pulmao['TRATCONS'] = (df_pulmao.DTTRAT - df_pulmao.DTCONSULT).dt.days"
   ]
  },
  {
   "cell_type": "code",
   "execution_count": 43,
   "metadata": {},
   "outputs": [
    {
     "data": {
      "text/plain": [
       "CONSDIAG       0\n",
       "DIAGTRAT    6390\n",
       "TRATCONS    6390\n",
       "dtype: int64"
      ]
     },
     "execution_count": 43,
     "metadata": {},
     "output_type": "execute_result"
    }
   ],
   "source": [
    "# testar quando Nan tem, para poder conferir se os valores de 3 estao corretos \n",
    "df_pulmao[['CONSDIAG','DIAGTRAT', 'TRATCONS']].isna().sum()"
   ]
  },
  {
   "cell_type": "code",
   "execution_count": 44,
   "metadata": {},
   "outputs": [
    {
     "name": "stdout",
     "output_type": "stream",
     "text": [
      "CONSDIAG_CAT\n",
      "0    32637\n",
      "1     3413\n",
      "2     2620\n",
      "Name: count, dtype: int64\n",
      "DIAGTRAT_CAT\n",
      "0    23552\n",
      "3     6390\n",
      "2     4718\n",
      "1     4010\n",
      "Name: count, dtype: int64\n",
      "TRATCONS_CAT\n",
      "0    22568\n",
      "3     6390\n",
      "2     5582\n",
      "1     4130\n",
      "Name: count, dtype: int64\n"
     ]
    }
   ],
   "source": [
    "df_pulmao['CONSDIAG_CAT'] = [0 if consdiag <= 30 else 1 if consdiag <= 60 else 2 for consdiag in df_pulmao.CONSDIAG]\n",
    "\n",
    "df_pulmao['DIAGTRAT_CAT'] = [0 if diagtrat <= 60 else 1 if diagtrat <= 90 else 2 if diagtrat >= 91 else 3 for diagtrat in df_pulmao.DIAGTRAT]\n",
    "\n",
    "df_pulmao['TRATCONS_CAT'] = [0 if tratcons <= 60 else 1 if tratcons <=90 else 2 if tratcons >= 91 else 3 for tratcons in df_pulmao.TRATCONS]\n",
    "\n",
    "print(df_pulmao['CONSDIAG_CAT'].value_counts())\n",
    "print(df_pulmao['DIAGTRAT_CAT'].value_counts())\n",
    "print(df_pulmao['TRATCONS_CAT'].value_counts())\n"
   ]
  },
  {
   "cell_type": "markdown",
   "metadata": {},
   "source": [
    "#### 9. Extrair somente o número das colunas DRS e DRSINST ( não achei DRSINSTITU nos dados)"
   ]
  },
  {
   "cell_type": "code",
   "execution_count": 45,
   "metadata": {},
   "outputs": [
    {
     "name": "stdout",
     "output_type": "stream",
     "text": [
      "['DRS 10  Piracicaba' 'DRS 03  Araraquara' 'DRS 01  Grande Sao Paulo'\n",
      " 'DRS 07  Campinas' 'DRS 13  Ribeirao Preto' 'DRS 17  Taubate'\n",
      " 'DRS 15  Sao Jose do Rio Preto' 'DRS 16  Sorocaba' 'DRS 09  Marilia'\n",
      " 'DRS 04  Baixada Santista' 'DRS 06  Bauru' 'DRS 02  Aracatuba'\n",
      " 'DRS 11  Presidente Prudente' 'DRS 08  Franca' 'DRS 05  Barretos'\n",
      " 'DRS 14  Sao Joao da Boa Vista' 'DRS 12  Registro']\n",
      "['DRS 10 - Piracicaba' 'DRS 03 - Araraquara' 'DRS 01 - Grande Sao Paulo'\n",
      " 'DRS 07 - Campinas' 'DRS 13 - Ribeirao Preto' 'DRS 17 - Taubate'\n",
      " 'DRS 15 - Sao Jose do Rio Preto' 'DRS 16 - Sorocaba' 'DRS 09 - Marilia'\n",
      " 'DRS 04 - Baixada Santista' 'DRS 06 - Bauru' 'DRS 02 - Aracatuba'\n",
      " 'DRS 11 - Presidente Prudente' 'DRS 05 - Barretos' 'DRS 08 - Franca'\n",
      " 'DRS 12 - Registro' 'DRS 14 - Sao Joao da Boa Vista']\n"
     ]
    }
   ],
   "source": [
    "print(df_pulmao.DRS.unique())\n",
    "print(df_pulmao.DRSINST.unique())"
   ]
  },
  {
   "cell_type": "code",
   "execution_count": 46,
   "metadata": {},
   "outputs": [
    {
     "data": {
      "text/plain": [
       "nDRS\n",
       "1     18158\n",
       "15     2715\n",
       "7      2684\n",
       "6      2563\n",
       "13     1754\n",
       "10     1473\n",
       "17     1294\n",
       "9      1212\n",
       "3      1167\n",
       "16     1045\n",
       "5      1019\n",
       "2       850\n",
       "8       718\n",
       "14      711\n",
       "4       700\n",
       "11      532\n",
       "12       75\n",
       "Name: count, dtype: int64"
      ]
     },
     "execution_count": 46,
     "metadata": {},
     "output_type": "execute_result"
    }
   ],
   "source": [
    "drs_expand = df_pulmao.DRS.str.split(' ', expand=True)\n",
    "df_pulmao['nDRS'] = drs_expand[1].astype(int)\n",
    "df_pulmao['nDRS'].value_counts()"
   ]
  },
  {
   "cell_type": "code",
   "execution_count": 47,
   "metadata": {},
   "outputs": [
    {
     "data": {
      "text/plain": [
       "nDRSINST\n",
       "1     18158\n",
       "15     2715\n",
       "7      2684\n",
       "6      2563\n",
       "13     1754\n",
       "10     1473\n",
       "17     1294\n",
       "9      1212\n",
       "3      1167\n",
       "16     1045\n",
       "5      1019\n",
       "2       850\n",
       "8       718\n",
       "14      711\n",
       "4       700\n",
       "11      532\n",
       "12       75\n",
       "Name: count, dtype: int64"
      ]
     },
     "execution_count": 47,
     "metadata": {},
     "output_type": "execute_result"
    }
   ],
   "source": [
    "drs_expand = df_pulmao.DRS.str.split(' ', expand=True)\n",
    "df_pulmao['nDRSINST'] = drs_expand[1].astype(int)\n",
    "df_pulmao['nDRSINST'].value_counts()"
   ]
  },
  {
   "cell_type": "markdown",
   "metadata": {},
   "source": [
    "### Criação"
   ]
  },
  {
   "cell_type": "markdown",
   "metadata": {},
   "source": [
    "#### 10. Criar a coluna binária de óbito, a partir da coluna ULTINFO, onde as categorias 1 e 2 representam que o paciente está vivo e as 3 e 4 representam o óbito por qualquer motivo"
   ]
  },
  {
   "cell_type": "code",
   "execution_count": 48,
   "metadata": {},
   "outputs": [
    {
     "name": "stdout",
     "output_type": "stream",
     "text": [
      "ULTINFO\n",
      "3    31160\n",
      "4     3760\n",
      "2     2285\n",
      "1     1465\n",
      "Name: count, dtype: int64\n"
     ]
    }
   ],
   "source": [
    "# para conferir os valores de cada informacao com o obtido a seguir, classificando com 0 e 1\n",
    "print((df_pulmao['ULTINFO']).value_counts())"
   ]
  },
  {
   "cell_type": "code",
   "execution_count": 49,
   "metadata": {},
   "outputs": [
    {
     "name": "stdout",
     "output_type": "stream",
     "text": [
      "obito\n",
      "1    34920\n",
      "0     3750\n",
      "Name: count, dtype: int64\n"
     ]
    }
   ],
   "source": [
    "df_pulmao['obito'] = [0 if ultinfo in [1, 2] else 1 for ultinfo in df_pulmao['ULTINFO']]\n",
    "\n",
    "print(df_pulmao['obito'].value_counts())"
   ]
  },
  {
   "cell_type": "markdown",
   "metadata": {},
   "source": [
    "### Retirada de Colunas"
   ]
  },
  {
   "cell_type": "markdown",
   "metadata": {},
   "source": [
    "##### 11. Retirar as colunas:\n",
    "UFNASC, UFRESID, CIDADE, DTCONSULT, CLINICA , DTDIAG,\n",
    "BASEDIAG, TOPOGRUP, DESCTOPO, DESCMORFO, T, N, M, PT, PN,\n",
    "PM, S , G, LOCALTNM, IDMITOTIC, PSA, GLEASON, OUTRACLA,\n",
    "META01, META02, META03, META04, DTTRAT, NAOTRAT,\n",
    "TRATAMENTO, TRATHOSP, TRATFANTES, TRATFAPOS, HORMONIO,\n",
    "TMO, NENHUMANT, CIRURANT, RADIOANT, QUIMIOANT, HORMOANT,\n",
    "TMOANT, IMUNOANT, OUTROANT, HORMOAPOS, TMOAPOS, DTULTINFO,\n",
    "CICI , CICIGRUP, CICISUBGRU, FAIXAETAR, LATERALI, INSTORIG,\n",
    "RRAS, ERRO, DTRECIDIVA, RECNENHUM, RECLOCAL, RECREGIO,\n",
    "RECDIST, REC01, REC02, REC03, REC04, CIDO, DSCCIDO,\n",
    "HABILIT , HABIT11 , HABILIT1 , CIDADEH, PERDASEG\n"
   ]
  },
  {
   "cell_type": "code",
   "execution_count": 50,
   "metadata": {},
   "outputs": [
    {
     "name": "stdout",
     "output_type": "stream",
     "text": [
      "(38670, 41)\n"
     ]
    },
    {
     "data": {
      "text/html": [
       "<div>\n",
       "<style scoped>\n",
       "    .dataframe tbody tr th:only-of-type {\n",
       "        vertical-align: middle;\n",
       "    }\n",
       "\n",
       "    .dataframe tbody tr th {\n",
       "        vertical-align: top;\n",
       "    }\n",
       "\n",
       "    .dataframe thead th {\n",
       "        text-align: right;\n",
       "    }\n",
       "</style>\n",
       "<table border=\"1\" class=\"dataframe\">\n",
       "  <thead>\n",
       "    <tr style=\"text-align: right;\">\n",
       "      <th></th>\n",
       "      <th>INSTITU</th>\n",
       "      <th>DSCINST</th>\n",
       "      <th>ESCOLARI</th>\n",
       "      <th>IDADE</th>\n",
       "      <th>SEXO</th>\n",
       "      <th>IBGE</th>\n",
       "      <th>CATEATEND</th>\n",
       "      <th>DIAGPREV</th>\n",
       "      <th>TOPO</th>\n",
       "      <th>MORFO</th>\n",
       "      <th>...</th>\n",
       "      <th>DRSINST</th>\n",
       "      <th>RRASINST</th>\n",
       "      <th>CIDADEINST</th>\n",
       "      <th>HABILIT2</th>\n",
       "      <th>CONSDIAG_CAT</th>\n",
       "      <th>DIAGTRAT_CAT</th>\n",
       "      <th>TRATCONS_CAT</th>\n",
       "      <th>nDRS</th>\n",
       "      <th>nDRSINST</th>\n",
       "      <th>obito</th>\n",
       "    </tr>\n",
       "  </thead>\n",
       "  <tbody>\n",
       "    <tr>\n",
       "      <th>169</th>\n",
       "      <td>20230</td>\n",
       "      <td>SANTA CASA DE ARARAS</td>\n",
       "      <td>9</td>\n",
       "      <td>73</td>\n",
       "      <td>1</td>\n",
       "      <td>3503307</td>\n",
       "      <td>9</td>\n",
       "      <td>2</td>\n",
       "      <td>C340</td>\n",
       "      <td>82513</td>\n",
       "      <td>...</td>\n",
       "      <td>DRS 10 - Piracicaba</td>\n",
       "      <td>RRAS 14</td>\n",
       "      <td>ARARAS</td>\n",
       "      <td>1</td>\n",
       "      <td>0</td>\n",
       "      <td>0</td>\n",
       "      <td>0</td>\n",
       "      <td>10</td>\n",
       "      <td>10</td>\n",
       "      <td>1</td>\n",
       "    </tr>\n",
       "    <tr>\n",
       "      <th>171</th>\n",
       "      <td>20621</td>\n",
       "      <td>SANTA CASA DE ARARAQUARA</td>\n",
       "      <td>9</td>\n",
       "      <td>67</td>\n",
       "      <td>2</td>\n",
       "      <td>3529302</td>\n",
       "      <td>9</td>\n",
       "      <td>1</td>\n",
       "      <td>C340</td>\n",
       "      <td>82513</td>\n",
       "      <td>...</td>\n",
       "      <td>DRS 03 - Araraquara</td>\n",
       "      <td>RRAS 18</td>\n",
       "      <td>ARARAQUARA</td>\n",
       "      <td>1</td>\n",
       "      <td>0</td>\n",
       "      <td>0</td>\n",
       "      <td>0</td>\n",
       "      <td>3</td>\n",
       "      <td>3</td>\n",
       "      <td>0</td>\n",
       "    </tr>\n",
       "    <tr>\n",
       "      <th>172</th>\n",
       "      <td>18058</td>\n",
       "      <td>HOSP ANCHIETA  FUNDACAO ABC</td>\n",
       "      <td>2</td>\n",
       "      <td>72</td>\n",
       "      <td>2</td>\n",
       "      <td>3548708</td>\n",
       "      <td>2</td>\n",
       "      <td>2</td>\n",
       "      <td>C340</td>\n",
       "      <td>82513</td>\n",
       "      <td>...</td>\n",
       "      <td>DRS 01 - Grande Sao Paulo</td>\n",
       "      <td>RRAS 01</td>\n",
       "      <td>SAO BERNARDO DO CAMPO</td>\n",
       "      <td>1</td>\n",
       "      <td>0</td>\n",
       "      <td>1</td>\n",
       "      <td>0</td>\n",
       "      <td>1</td>\n",
       "      <td>1</td>\n",
       "      <td>1</td>\n",
       "    </tr>\n",
       "  </tbody>\n",
       "</table>\n",
       "<p>3 rows × 41 columns</p>\n",
       "</div>"
      ],
      "text/plain": [
       "     INSTITU                      DSCINST  ESCOLARI  IDADE  SEXO     IBGE  \\\n",
       "169    20230         SANTA CASA DE ARARAS         9     73     1  3503307   \n",
       "171    20621     SANTA CASA DE ARARAQUARA         9     67     2  3529302   \n",
       "172    18058  HOSP ANCHIETA  FUNDACAO ABC         2     72     2  3548708   \n",
       "\n",
       "     CATEATEND  DIAGPREV  TOPO  MORFO  ...                    DRSINST  \\\n",
       "169          9         2  C340  82513  ...        DRS 10 - Piracicaba   \n",
       "171          9         1  C340  82513  ...        DRS 03 - Araraquara   \n",
       "172          2         2  C340  82513  ...  DRS 01 - Grande Sao Paulo   \n",
       "\n",
       "    RRASINST             CIDADEINST  HABILIT2  CONSDIAG_CAT  DIAGTRAT_CAT  \\\n",
       "169  RRAS 14                 ARARAS         1             0             0   \n",
       "171  RRAS 18             ARARAQUARA         1             0             0   \n",
       "172  RRAS 01  SAO BERNARDO DO CAMPO         1             0             1   \n",
       "\n",
       "     TRATCONS_CAT  nDRS  nDRSINST  obito  \n",
       "169             0    10        10      1  \n",
       "171             0     3         3      0  \n",
       "172             0     1         1      1  \n",
       "\n",
       "[3 rows x 41 columns]"
      ]
     },
     "execution_count": 50,
     "metadata": {},
     "output_type": "execute_result"
    }
   ],
   "source": [
    "list_drop = [ 'UFNASC', 'UFRESID', 'CIDADE', 'DTCONSULT', 'CLINICA', 'DTDIAG', 'BASEDIAG', 'TOPOGRUP', 'DESCTOPO', 'DESCMORFO', 'T', 'N', 'M', 'PT', 'PN', 'PM', 'S', 'G', 'LOCALTNM', 'IDMITOTIC', 'PSA',  'GLEASON', 'OUTRACLA', 'META01', 'META02', 'META03', 'META04', 'DTTRAT', 'NAOTRAT', 'TRATAMENTO', 'TRATHOSP', 'TRATFANTES', 'TRATFAPOS', 'HORMONIO', 'TMO', 'NENHUMANT', 'CIRURANT', 'RADIOANT', 'QUIMIOANT', 'HORMOANT', 'TMOANT', 'IMUNOANT', 'OUTROANT', 'HORMOAPOS', 'TMOAPOS', 'DTULTINFO', 'CICI', 'CICIGRUP', 'CICISUBGRU', 'FAIXAETAR', 'LATERALI', 'INSTORIG', 'RRAS', 'ERRO', 'DTRECIDIVA', 'RECNENHUM', 'RECLOCAL', 'RECREGIO', 'RECDIST', 'REC01', 'REC02', 'REC03', 'REC04', 'CIDO', 'DESCIDO', 'HABILIT', 'HABIT11', 'HABILIT1', 'CIDADEH', 'PERDASEG']\n",
    "\n",
    "df_pulmao = df_pulmao.drop(columns=list_drop)\n",
    "\n",
    "print(df_pulmao.shape)\n",
    "df_pulmao.head(3)"
   ]
  },
  {
   "cell_type": "code",
   "execution_count": 51,
   "metadata": {},
   "outputs": [
    {
     "data": {
      "text/plain": [
       "(38670, 41)"
      ]
     },
     "execution_count": 51,
     "metadata": {},
     "output_type": "execute_result"
    }
   ],
   "source": [
    "df_pulmao.shape"
   ]
  },
  {
   "cell_type": "markdown",
   "metadata": {},
   "source": [
    "### Pré Processamento "
   ]
  },
  {
   "cell_type": "code",
   "execution_count": null,
   "metadata": {},
   "outputs": [],
   "source": [
    "df_pulmao.describe().T"
   ]
  },
  {
   "cell_type": "code",
   "execution_count": 28,
   "metadata": {},
   "outputs": [
    {
     "data": {
      "text/plain": [
       "Index(['INSTITU', 'ESCOLARI', 'IDADE', 'SEXO', 'IBGE', 'CATEATEND', 'DIAGPREV',\n",
       "       'TOPO', 'EC', 'NENHUM', 'CIRURGIA', 'RADIO', 'QUIMIO', 'IMUNO',\n",
       "       'OUTROS', 'ANODIAG', 'IBGEATEN', 'HABILIT2', 'CONSDIAG_CAT',\n",
       "       'DIAGTRAT_CAT', 'TRATCONS_CAT', 'nDRS', 'nDRSINST', 'obito'],\n",
       "      dtype='object')"
      ]
     },
     "execution_count": 28,
     "metadata": {},
     "output_type": "execute_result"
    }
   ],
   "source": [
    "df_pulmao.columns"
   ]
  },
  {
   "cell_type": "markdown",
   "metadata": {},
   "source": [
    "#### Divisão Treino e Teste"
   ]
  },
  {
   "cell_type": "code",
   "execution_count": 54,
   "metadata": {},
   "outputs": [],
   "source": [
    "x = df_pulmao.drop(columns=['DSCINST', 'DRSINST', 'MORFO', 'ULTINFO', 'CIDADEINST','DRSINST', 'ECGRUP', 'TRATCONS', 'DIAGTRAT', 'CONSDIAG', 'NENHUMAPOS', 'CIRURAPOS', 'RADIOAPOS', 'QUIMIOAPOS', 'IMUNOAPOS', 'OUTROAPOS', 'DRS', 'RRASINST' ])\n",
    "\n",
    "y = df_pulmao['obito']"
   ]
  },
  {
   "cell_type": "code",
   "execution_count": 55,
   "metadata": {},
   "outputs": [
    {
     "data": {
      "text/plain": [
       "((29002, 24), (9668, 24), (29002,), (9668,))"
      ]
     },
     "execution_count": 55,
     "metadata": {},
     "output_type": "execute_result"
    }
   ],
   "source": [
    "from sklearn.model_selection import train_test_split\n",
    "\n",
    "X_train, X_test, y_train, y_test = train_test_split(x, y, test_size=0.25,random_state=5)\n",
    "\n",
    "X_train.shape, X_test.shape, y_train.shape, y_test.shape"
   ]
  },
  {
   "cell_type": "code",
   "execution_count": 62,
   "metadata": {},
   "outputs": [
    {
     "name": "stdout",
     "output_type": "stream",
     "text": [
      "Média idade 63.70170674941815\n",
      "Treino média idade 63.68126336114751\n",
      "Teste média idade 63.763032685146875\n"
     ]
    }
   ],
   "source": [
    "# Teste para verificar se a divisao foi feita corretamente\n",
    "print(f\"Média idade {df_pulmao['IDADE'].mean()}\")\n",
    "print(f\"Treino média idade {X_train['IDADE'].mean()}\")\n",
    "print(f\"Teste média idade {X_test['IDADE'].mean()}\")"
   ]
  },
  {
   "cell_type": "markdown",
   "metadata": {},
   "source": [
    "##### Codificação Ordinal"
   ]
  },
  {
   "cell_type": "code",
   "execution_count": 63,
   "metadata": {},
   "outputs": [
    {
     "data": {
      "text/plain": [
       "Index(['TOPO', 'EC'], dtype='object')"
      ]
     },
     "execution_count": 63,
     "metadata": {},
     "output_type": "execute_result"
    }
   ],
   "source": [
    "# Identificação de colunas \n",
    "X_train.select_dtypes(include='object').columns"
   ]
  },
  {
   "cell_type": "markdown",
   "metadata": {},
   "source": [
    "#### Transformação dos Dados"
   ]
  },
  {
   "cell_type": "markdown",
   "metadata": {},
   "source": [
    "##### Redução colunas"
   ]
  },
  {
   "cell_type": "code",
   "execution_count": 31,
   "metadata": {},
   "outputs": [
    {
     "data": {
      "text/plain": [
       "Index(['INSTITU', 'DSCINST', 'ESCOLARI', 'IDADE', 'SEXO', 'IBGE', 'CATEATEND',\n",
       "       'DIAGPREV', 'TOPO', 'MORFO', 'EC', 'ECGRUP', 'NENHUM', 'CIRURGIA',\n",
       "       'RADIO', 'QUIMIO', 'IMUNO', 'OUTROS', 'NENHUMAPOS', 'CIRURAPOS',\n",
       "       'RADIOAPOS', 'QUIMIOAPOS', 'IMUNOAPOS', 'OUTROAPOS', 'ULTINFO',\n",
       "       'CONSDIAG', 'TRATCONS', 'DIAGTRAT', 'ANODIAG', 'DRS', 'IBGEATEN',\n",
       "       'DRSINST', 'RRASINST', 'CIDADEINST', 'HABILIT2', 'CONSDIAG_CAT',\n",
       "       'DIAGTRAT_CAT', 'TRATCONS_CAT', 'nDRS', 'nDRSINST', 'obito'],\n",
       "      dtype='object')"
      ]
     },
     "execution_count": 31,
     "metadata": {},
     "output_type": "execute_result"
    }
   ],
   "source": [
    "df_pulmao.columns"
   ]
  },
  {
   "cell_type": "code",
   "execution_count": 123,
   "metadata": {},
   "outputs": [],
   "source": []
  },
  {
   "cell_type": "markdown",
   "metadata": {},
   "source": [
    "##### One-Hot Encoding para variáveis categóricas"
   ]
  },
  {
   "cell_type": "code",
   "execution_count": 134,
   "metadata": {},
   "outputs": [
    {
     "data": {
      "text/html": [
       "<div>\n",
       "<style scoped>\n",
       "    .dataframe tbody tr th:only-of-type {\n",
       "        vertical-align: middle;\n",
       "    }\n",
       "\n",
       "    .dataframe tbody tr th {\n",
       "        vertical-align: top;\n",
       "    }\n",
       "\n",
       "    .dataframe thead th {\n",
       "        text-align: right;\n",
       "    }\n",
       "</style>\n",
       "<table border=\"1\" class=\"dataframe\">\n",
       "  <thead>\n",
       "    <tr style=\"text-align: right;\">\n",
       "      <th></th>\n",
       "      <th>INSTITU</th>\n",
       "      <th>ESCOLARI</th>\n",
       "      <th>IDADE</th>\n",
       "      <th>SEXO</th>\n",
       "      <th>IBGE</th>\n",
       "      <th>NENHUM</th>\n",
       "      <th>CIRURGIA</th>\n",
       "      <th>RADIO</th>\n",
       "      <th>QUIMIO</th>\n",
       "      <th>IMUNO</th>\n",
       "      <th>...</th>\n",
       "      <th>TOPO_C342</th>\n",
       "      <th>TOPO_C343</th>\n",
       "      <th>TOPO_C348</th>\n",
       "      <th>TOPO_C349</th>\n",
       "      <th>EC_IB</th>\n",
       "      <th>EC_IIA</th>\n",
       "      <th>EC_IIB</th>\n",
       "      <th>EC_IIIA</th>\n",
       "      <th>EC_IIIB</th>\n",
       "      <th>EC_IV</th>\n",
       "    </tr>\n",
       "  </thead>\n",
       "  <tbody>\n",
       "    <tr>\n",
       "      <th>169</th>\n",
       "      <td>20230</td>\n",
       "      <td>9</td>\n",
       "      <td>73</td>\n",
       "      <td>1</td>\n",
       "      <td>3503307</td>\n",
       "      <td>0</td>\n",
       "      <td>1</td>\n",
       "      <td>0</td>\n",
       "      <td>1</td>\n",
       "      <td>0</td>\n",
       "      <td>...</td>\n",
       "      <td>False</td>\n",
       "      <td>False</td>\n",
       "      <td>False</td>\n",
       "      <td>False</td>\n",
       "      <td>True</td>\n",
       "      <td>False</td>\n",
       "      <td>False</td>\n",
       "      <td>False</td>\n",
       "      <td>False</td>\n",
       "      <td>False</td>\n",
       "    </tr>\n",
       "    <tr>\n",
       "      <th>171</th>\n",
       "      <td>20621</td>\n",
       "      <td>9</td>\n",
       "      <td>67</td>\n",
       "      <td>2</td>\n",
       "      <td>3529302</td>\n",
       "      <td>0</td>\n",
       "      <td>0</td>\n",
       "      <td>0</td>\n",
       "      <td>1</td>\n",
       "      <td>0</td>\n",
       "      <td>...</td>\n",
       "      <td>False</td>\n",
       "      <td>False</td>\n",
       "      <td>False</td>\n",
       "      <td>False</td>\n",
       "      <td>False</td>\n",
       "      <td>False</td>\n",
       "      <td>False</td>\n",
       "      <td>False</td>\n",
       "      <td>True</td>\n",
       "      <td>False</td>\n",
       "    </tr>\n",
       "    <tr>\n",
       "      <th>172</th>\n",
       "      <td>18058</td>\n",
       "      <td>2</td>\n",
       "      <td>72</td>\n",
       "      <td>2</td>\n",
       "      <td>3548708</td>\n",
       "      <td>0</td>\n",
       "      <td>0</td>\n",
       "      <td>1</td>\n",
       "      <td>0</td>\n",
       "      <td>0</td>\n",
       "      <td>...</td>\n",
       "      <td>False</td>\n",
       "      <td>False</td>\n",
       "      <td>False</td>\n",
       "      <td>False</td>\n",
       "      <td>False</td>\n",
       "      <td>False</td>\n",
       "      <td>False</td>\n",
       "      <td>False</td>\n",
       "      <td>False</td>\n",
       "      <td>True</td>\n",
       "    </tr>\n",
       "    <tr>\n",
       "      <th>173</th>\n",
       "      <td>19976</td>\n",
       "      <td>9</td>\n",
       "      <td>65</td>\n",
       "      <td>2</td>\n",
       "      <td>3501608</td>\n",
       "      <td>0</td>\n",
       "      <td>0</td>\n",
       "      <td>0</td>\n",
       "      <td>1</td>\n",
       "      <td>0</td>\n",
       "      <td>...</td>\n",
       "      <td>False</td>\n",
       "      <td>False</td>\n",
       "      <td>False</td>\n",
       "      <td>False</td>\n",
       "      <td>True</td>\n",
       "      <td>False</td>\n",
       "      <td>False</td>\n",
       "      <td>False</td>\n",
       "      <td>False</td>\n",
       "      <td>False</td>\n",
       "    </tr>\n",
       "    <tr>\n",
       "      <th>174</th>\n",
       "      <td>18058</td>\n",
       "      <td>3</td>\n",
       "      <td>63</td>\n",
       "      <td>1</td>\n",
       "      <td>3548708</td>\n",
       "      <td>0</td>\n",
       "      <td>0</td>\n",
       "      <td>0</td>\n",
       "      <td>1</td>\n",
       "      <td>0</td>\n",
       "      <td>...</td>\n",
       "      <td>False</td>\n",
       "      <td>False</td>\n",
       "      <td>False</td>\n",
       "      <td>False</td>\n",
       "      <td>False</td>\n",
       "      <td>False</td>\n",
       "      <td>False</td>\n",
       "      <td>False</td>\n",
       "      <td>False</td>\n",
       "      <td>True</td>\n",
       "    </tr>\n",
       "    <tr>\n",
       "      <th>...</th>\n",
       "      <td>...</td>\n",
       "      <td>...</td>\n",
       "      <td>...</td>\n",
       "      <td>...</td>\n",
       "      <td>...</td>\n",
       "      <td>...</td>\n",
       "      <td>...</td>\n",
       "      <td>...</td>\n",
       "      <td>...</td>\n",
       "      <td>...</td>\n",
       "      <td>...</td>\n",
       "      <td>...</td>\n",
       "      <td>...</td>\n",
       "      <td>...</td>\n",
       "      <td>...</td>\n",
       "      <td>...</td>\n",
       "      <td>...</td>\n",
       "      <td>...</td>\n",
       "      <td>...</td>\n",
       "      <td>...</td>\n",
       "      <td>...</td>\n",
       "    </tr>\n",
       "    <tr>\n",
       "      <th>1019801</th>\n",
       "      <td>14</td>\n",
       "      <td>5</td>\n",
       "      <td>55</td>\n",
       "      <td>1</td>\n",
       "      <td>3550308</td>\n",
       "      <td>0</td>\n",
       "      <td>0</td>\n",
       "      <td>1</td>\n",
       "      <td>1</td>\n",
       "      <td>0</td>\n",
       "      <td>...</td>\n",
       "      <td>False</td>\n",
       "      <td>False</td>\n",
       "      <td>False</td>\n",
       "      <td>True</td>\n",
       "      <td>False</td>\n",
       "      <td>False</td>\n",
       "      <td>False</td>\n",
       "      <td>False</td>\n",
       "      <td>False</td>\n",
       "      <td>True</td>\n",
       "    </tr>\n",
       "    <tr>\n",
       "      <th>1021918</th>\n",
       "      <td>20435</td>\n",
       "      <td>2</td>\n",
       "      <td>56</td>\n",
       "      <td>2</td>\n",
       "      <td>3538709</td>\n",
       "      <td>0</td>\n",
       "      <td>1</td>\n",
       "      <td>1</td>\n",
       "      <td>1</td>\n",
       "      <td>0</td>\n",
       "      <td>...</td>\n",
       "      <td>False</td>\n",
       "      <td>False</td>\n",
       "      <td>True</td>\n",
       "      <td>False</td>\n",
       "      <td>True</td>\n",
       "      <td>False</td>\n",
       "      <td>False</td>\n",
       "      <td>False</td>\n",
       "      <td>False</td>\n",
       "      <td>False</td>\n",
       "    </tr>\n",
       "    <tr>\n",
       "      <th>1021920</th>\n",
       "      <td>20621</td>\n",
       "      <td>3</td>\n",
       "      <td>52</td>\n",
       "      <td>2</td>\n",
       "      <td>3501707</td>\n",
       "      <td>0</td>\n",
       "      <td>0</td>\n",
       "      <td>0</td>\n",
       "      <td>1</td>\n",
       "      <td>0</td>\n",
       "      <td>...</td>\n",
       "      <td>False</td>\n",
       "      <td>False</td>\n",
       "      <td>False</td>\n",
       "      <td>True</td>\n",
       "      <td>False</td>\n",
       "      <td>False</td>\n",
       "      <td>False</td>\n",
       "      <td>False</td>\n",
       "      <td>False</td>\n",
       "      <td>True</td>\n",
       "    </tr>\n",
       "    <tr>\n",
       "      <th>1025926</th>\n",
       "      <td>612374</td>\n",
       "      <td>9</td>\n",
       "      <td>78</td>\n",
       "      <td>2</td>\n",
       "      <td>3550308</td>\n",
       "      <td>0</td>\n",
       "      <td>0</td>\n",
       "      <td>1</td>\n",
       "      <td>0</td>\n",
       "      <td>0</td>\n",
       "      <td>...</td>\n",
       "      <td>True</td>\n",
       "      <td>False</td>\n",
       "      <td>False</td>\n",
       "      <td>False</td>\n",
       "      <td>False</td>\n",
       "      <td>False</td>\n",
       "      <td>False</td>\n",
       "      <td>False</td>\n",
       "      <td>False</td>\n",
       "      <td>True</td>\n",
       "    </tr>\n",
       "    <tr>\n",
       "      <th>1209003</th>\n",
       "      <td>21130</td>\n",
       "      <td>3</td>\n",
       "      <td>58</td>\n",
       "      <td>2</td>\n",
       "      <td>3551504</td>\n",
       "      <td>0</td>\n",
       "      <td>1</td>\n",
       "      <td>0</td>\n",
       "      <td>0</td>\n",
       "      <td>0</td>\n",
       "      <td>...</td>\n",
       "      <td>False</td>\n",
       "      <td>False</td>\n",
       "      <td>False</td>\n",
       "      <td>True</td>\n",
       "      <td>False</td>\n",
       "      <td>False</td>\n",
       "      <td>False</td>\n",
       "      <td>True</td>\n",
       "      <td>False</td>\n",
       "      <td>False</td>\n",
       "    </tr>\n",
       "  </tbody>\n",
       "</table>\n",
       "<p>38670 rows × 35 columns</p>\n",
       "</div>"
      ],
      "text/plain": [
       "         INSTITU  ESCOLARI  IDADE  SEXO     IBGE  NENHUM  CIRURGIA  RADIO  \\\n",
       "169        20230         9     73     1  3503307       0         1      0   \n",
       "171        20621         9     67     2  3529302       0         0      0   \n",
       "172        18058         2     72     2  3548708       0         0      1   \n",
       "173        19976         9     65     2  3501608       0         0      0   \n",
       "174        18058         3     63     1  3548708       0         0      0   \n",
       "...          ...       ...    ...   ...      ...     ...       ...    ...   \n",
       "1019801       14         5     55     1  3550308       0         0      1   \n",
       "1021918    20435         2     56     2  3538709       0         1      1   \n",
       "1021920    20621         3     52     2  3501707       0         0      0   \n",
       "1025926   612374         9     78     2  3550308       0         0      1   \n",
       "1209003    21130         3     58     2  3551504       0         1      0   \n",
       "\n",
       "         QUIMIO  IMUNO  ...  TOPO_C342  TOPO_C343  TOPO_C348  TOPO_C349  \\\n",
       "169           1      0  ...      False      False      False      False   \n",
       "171           1      0  ...      False      False      False      False   \n",
       "172           0      0  ...      False      False      False      False   \n",
       "173           1      0  ...      False      False      False      False   \n",
       "174           1      0  ...      False      False      False      False   \n",
       "...         ...    ...  ...        ...        ...        ...        ...   \n",
       "1019801       1      0  ...      False      False      False       True   \n",
       "1021918       1      0  ...      False      False       True      False   \n",
       "1021920       1      0  ...      False      False      False       True   \n",
       "1025926       0      0  ...       True      False      False      False   \n",
       "1209003       0      0  ...      False      False      False       True   \n",
       "\n",
       "         EC_IB  EC_IIA  EC_IIB  EC_IIIA  EC_IIIB  EC_IV  \n",
       "169       True   False   False    False    False  False  \n",
       "171      False   False   False    False     True  False  \n",
       "172      False   False   False    False    False   True  \n",
       "173       True   False   False    False    False  False  \n",
       "174      False   False   False    False    False   True  \n",
       "...        ...     ...     ...      ...      ...    ...  \n",
       "1019801  False   False   False    False    False   True  \n",
       "1021918   True   False   False    False    False  False  \n",
       "1021920  False   False   False    False    False   True  \n",
       "1025926  False   False   False    False    False   True  \n",
       "1209003  False   False   False     True    False  False  \n",
       "\n",
       "[38670 rows x 35 columns]"
      ]
     },
     "execution_count": 134,
     "metadata": {},
     "output_type": "execute_result"
    }
   ],
   "source": [
    "df_encoded = pd.get_dummies(df_pulmao, columns=['CATEATEND', 'DIAGPREV', 'TOPO', 'EC'], drop_first=True)\n",
    "\n",
    "df_encoded"
   ]
  },
  {
   "cell_type": "code",
   "execution_count": 131,
   "metadata": {},
   "outputs": [
    {
     "data": {
      "text/html": [
       "<div>\n",
       "<style scoped>\n",
       "    .dataframe tbody tr th:only-of-type {\n",
       "        vertical-align: middle;\n",
       "    }\n",
       "\n",
       "    .dataframe tbody tr th {\n",
       "        vertical-align: top;\n",
       "    }\n",
       "\n",
       "    .dataframe thead th {\n",
       "        text-align: right;\n",
       "    }\n",
       "</style>\n",
       "<table border=\"1\" class=\"dataframe\">\n",
       "  <thead>\n",
       "    <tr style=\"text-align: right;\">\n",
       "      <th></th>\n",
       "      <th>INSTITU</th>\n",
       "      <th>ESCOLARI</th>\n",
       "      <th>IDADE</th>\n",
       "      <th>SEXO</th>\n",
       "      <th>IBGE</th>\n",
       "      <th>CATEATEND</th>\n",
       "      <th>DIAGPREV</th>\n",
       "      <th>TOPO</th>\n",
       "      <th>EC</th>\n",
       "      <th>NENHUM</th>\n",
       "      <th>...</th>\n",
       "      <th>OUTROS</th>\n",
       "      <th>ANODIAG</th>\n",
       "      <th>IBGEATEN</th>\n",
       "      <th>HABILIT2</th>\n",
       "      <th>CONSDIAG_CAT</th>\n",
       "      <th>DIAGTRAT_CAT</th>\n",
       "      <th>TRATCONS_CAT</th>\n",
       "      <th>nDRS</th>\n",
       "      <th>nDRSINST</th>\n",
       "      <th>obito</th>\n",
       "    </tr>\n",
       "  </thead>\n",
       "  <tbody>\n",
       "    <tr>\n",
       "      <th>169</th>\n",
       "      <td>20230</td>\n",
       "      <td>9</td>\n",
       "      <td>73</td>\n",
       "      <td>1</td>\n",
       "      <td>3503307</td>\n",
       "      <td>9</td>\n",
       "      <td>2</td>\n",
       "      <td>C340</td>\n",
       "      <td>IB</td>\n",
       "      <td>0</td>\n",
       "      <td>...</td>\n",
       "      <td>0</td>\n",
       "      <td>2002</td>\n",
       "      <td>3503307</td>\n",
       "      <td>1</td>\n",
       "      <td>0</td>\n",
       "      <td>0</td>\n",
       "      <td>0</td>\n",
       "      <td>10</td>\n",
       "      <td>10</td>\n",
       "      <td>1</td>\n",
       "    </tr>\n",
       "    <tr>\n",
       "      <th>171</th>\n",
       "      <td>20621</td>\n",
       "      <td>9</td>\n",
       "      <td>67</td>\n",
       "      <td>2</td>\n",
       "      <td>3529302</td>\n",
       "      <td>9</td>\n",
       "      <td>1</td>\n",
       "      <td>C340</td>\n",
       "      <td>IIIB</td>\n",
       "      <td>0</td>\n",
       "      <td>...</td>\n",
       "      <td>0</td>\n",
       "      <td>2004</td>\n",
       "      <td>3503208</td>\n",
       "      <td>1</td>\n",
       "      <td>0</td>\n",
       "      <td>0</td>\n",
       "      <td>0</td>\n",
       "      <td>3</td>\n",
       "      <td>3</td>\n",
       "      <td>0</td>\n",
       "    </tr>\n",
       "    <tr>\n",
       "      <th>172</th>\n",
       "      <td>18058</td>\n",
       "      <td>2</td>\n",
       "      <td>72</td>\n",
       "      <td>2</td>\n",
       "      <td>3548708</td>\n",
       "      <td>2</td>\n",
       "      <td>2</td>\n",
       "      <td>C340</td>\n",
       "      <td>IV</td>\n",
       "      <td>0</td>\n",
       "      <td>...</td>\n",
       "      <td>0</td>\n",
       "      <td>2016</td>\n",
       "      <td>3548708</td>\n",
       "      <td>1</td>\n",
       "      <td>0</td>\n",
       "      <td>1</td>\n",
       "      <td>0</td>\n",
       "      <td>1</td>\n",
       "      <td>1</td>\n",
       "      <td>1</td>\n",
       "    </tr>\n",
       "    <tr>\n",
       "      <th>173</th>\n",
       "      <td>19976</td>\n",
       "      <td>9</td>\n",
       "      <td>65</td>\n",
       "      <td>2</td>\n",
       "      <td>3501608</td>\n",
       "      <td>9</td>\n",
       "      <td>2</td>\n",
       "      <td>C340</td>\n",
       "      <td>IB</td>\n",
       "      <td>0</td>\n",
       "      <td>...</td>\n",
       "      <td>1</td>\n",
       "      <td>2010</td>\n",
       "      <td>3509502</td>\n",
       "      <td>1</td>\n",
       "      <td>0</td>\n",
       "      <td>0</td>\n",
       "      <td>0</td>\n",
       "      <td>7</td>\n",
       "      <td>7</td>\n",
       "      <td>0</td>\n",
       "    </tr>\n",
       "    <tr>\n",
       "      <th>174</th>\n",
       "      <td>18058</td>\n",
       "      <td>3</td>\n",
       "      <td>63</td>\n",
       "      <td>1</td>\n",
       "      <td>3548708</td>\n",
       "      <td>2</td>\n",
       "      <td>2</td>\n",
       "      <td>C340</td>\n",
       "      <td>IV</td>\n",
       "      <td>0</td>\n",
       "      <td>...</td>\n",
       "      <td>1</td>\n",
       "      <td>2015</td>\n",
       "      <td>3548708</td>\n",
       "      <td>1</td>\n",
       "      <td>0</td>\n",
       "      <td>1</td>\n",
       "      <td>0</td>\n",
       "      <td>1</td>\n",
       "      <td>1</td>\n",
       "      <td>1</td>\n",
       "    </tr>\n",
       "    <tr>\n",
       "      <th>...</th>\n",
       "      <td>...</td>\n",
       "      <td>...</td>\n",
       "      <td>...</td>\n",
       "      <td>...</td>\n",
       "      <td>...</td>\n",
       "      <td>...</td>\n",
       "      <td>...</td>\n",
       "      <td>...</td>\n",
       "      <td>...</td>\n",
       "      <td>...</td>\n",
       "      <td>...</td>\n",
       "      <td>...</td>\n",
       "      <td>...</td>\n",
       "      <td>...</td>\n",
       "      <td>...</td>\n",
       "      <td>...</td>\n",
       "      <td>...</td>\n",
       "      <td>...</td>\n",
       "      <td>...</td>\n",
       "      <td>...</td>\n",
       "      <td>...</td>\n",
       "    </tr>\n",
       "    <tr>\n",
       "      <th>1019801</th>\n",
       "      <td>14</td>\n",
       "      <td>5</td>\n",
       "      <td>55</td>\n",
       "      <td>1</td>\n",
       "      <td>3550308</td>\n",
       "      <td>9</td>\n",
       "      <td>2</td>\n",
       "      <td>C349</td>\n",
       "      <td>IV</td>\n",
       "      <td>0</td>\n",
       "      <td>...</td>\n",
       "      <td>0</td>\n",
       "      <td>2011</td>\n",
       "      <td>3550308</td>\n",
       "      <td>5</td>\n",
       "      <td>0</td>\n",
       "      <td>0</td>\n",
       "      <td>0</td>\n",
       "      <td>1</td>\n",
       "      <td>1</td>\n",
       "      <td>1</td>\n",
       "    </tr>\n",
       "    <tr>\n",
       "      <th>1021918</th>\n",
       "      <td>20435</td>\n",
       "      <td>2</td>\n",
       "      <td>56</td>\n",
       "      <td>2</td>\n",
       "      <td>3538709</td>\n",
       "      <td>2</td>\n",
       "      <td>1</td>\n",
       "      <td>C348</td>\n",
       "      <td>IB</td>\n",
       "      <td>0</td>\n",
       "      <td>...</td>\n",
       "      <td>0</td>\n",
       "      <td>2017</td>\n",
       "      <td>3538709</td>\n",
       "      <td>1</td>\n",
       "      <td>0</td>\n",
       "      <td>0</td>\n",
       "      <td>0</td>\n",
       "      <td>10</td>\n",
       "      <td>10</td>\n",
       "      <td>1</td>\n",
       "    </tr>\n",
       "    <tr>\n",
       "      <th>1021920</th>\n",
       "      <td>20621</td>\n",
       "      <td>3</td>\n",
       "      <td>52</td>\n",
       "      <td>2</td>\n",
       "      <td>3501707</td>\n",
       "      <td>2</td>\n",
       "      <td>2</td>\n",
       "      <td>C349</td>\n",
       "      <td>IV</td>\n",
       "      <td>0</td>\n",
       "      <td>...</td>\n",
       "      <td>0</td>\n",
       "      <td>2016</td>\n",
       "      <td>3503208</td>\n",
       "      <td>1</td>\n",
       "      <td>0</td>\n",
       "      <td>0</td>\n",
       "      <td>0</td>\n",
       "      <td>3</td>\n",
       "      <td>3</td>\n",
       "      <td>1</td>\n",
       "    </tr>\n",
       "    <tr>\n",
       "      <th>1025926</th>\n",
       "      <td>612374</td>\n",
       "      <td>9</td>\n",
       "      <td>78</td>\n",
       "      <td>2</td>\n",
       "      <td>3550308</td>\n",
       "      <td>2</td>\n",
       "      <td>1</td>\n",
       "      <td>C342</td>\n",
       "      <td>IV</td>\n",
       "      <td>0</td>\n",
       "      <td>...</td>\n",
       "      <td>0</td>\n",
       "      <td>2013</td>\n",
       "      <td>3550308</td>\n",
       "      <td>2</td>\n",
       "      <td>0</td>\n",
       "      <td>0</td>\n",
       "      <td>0</td>\n",
       "      <td>1</td>\n",
       "      <td>1</td>\n",
       "      <td>1</td>\n",
       "    </tr>\n",
       "    <tr>\n",
       "      <th>1209003</th>\n",
       "      <td>21130</td>\n",
       "      <td>3</td>\n",
       "      <td>58</td>\n",
       "      <td>2</td>\n",
       "      <td>3551504</td>\n",
       "      <td>2</td>\n",
       "      <td>2</td>\n",
       "      <td>C349</td>\n",
       "      <td>IIIA</td>\n",
       "      <td>0</td>\n",
       "      <td>...</td>\n",
       "      <td>0</td>\n",
       "      <td>2017</td>\n",
       "      <td>3543402</td>\n",
       "      <td>2</td>\n",
       "      <td>0</td>\n",
       "      <td>2</td>\n",
       "      <td>2</td>\n",
       "      <td>13</td>\n",
       "      <td>13</td>\n",
       "      <td>0</td>\n",
       "    </tr>\n",
       "  </tbody>\n",
       "</table>\n",
       "<p>38670 rows × 24 columns</p>\n",
       "</div>"
      ],
      "text/plain": [
       "         INSTITU  ESCOLARI  IDADE  SEXO     IBGE  CATEATEND  DIAGPREV  TOPO  \\\n",
       "169        20230         9     73     1  3503307          9         2  C340   \n",
       "171        20621         9     67     2  3529302          9         1  C340   \n",
       "172        18058         2     72     2  3548708          2         2  C340   \n",
       "173        19976         9     65     2  3501608          9         2  C340   \n",
       "174        18058         3     63     1  3548708          2         2  C340   \n",
       "...          ...       ...    ...   ...      ...        ...       ...   ...   \n",
       "1019801       14         5     55     1  3550308          9         2  C349   \n",
       "1021918    20435         2     56     2  3538709          2         1  C348   \n",
       "1021920    20621         3     52     2  3501707          2         2  C349   \n",
       "1025926   612374         9     78     2  3550308          2         1  C342   \n",
       "1209003    21130         3     58     2  3551504          2         2  C349   \n",
       "\n",
       "           EC  NENHUM  ...  OUTROS  ANODIAG  IBGEATEN  HABILIT2  CONSDIAG_CAT  \\\n",
       "169        IB       0  ...       0     2002   3503307         1             0   \n",
       "171      IIIB       0  ...       0     2004   3503208         1             0   \n",
       "172        IV       0  ...       0     2016   3548708         1             0   \n",
       "173        IB       0  ...       1     2010   3509502         1             0   \n",
       "174        IV       0  ...       1     2015   3548708         1             0   \n",
       "...       ...     ...  ...     ...      ...       ...       ...           ...   \n",
       "1019801    IV       0  ...       0     2011   3550308         5             0   \n",
       "1021918    IB       0  ...       0     2017   3538709         1             0   \n",
       "1021920    IV       0  ...       0     2016   3503208         1             0   \n",
       "1025926    IV       0  ...       0     2013   3550308         2             0   \n",
       "1209003  IIIA       0  ...       0     2017   3543402         2             0   \n",
       "\n",
       "         DIAGTRAT_CAT  TRATCONS_CAT  nDRS  nDRSINST  obito  \n",
       "169                 0             0    10        10      1  \n",
       "171                 0             0     3         3      0  \n",
       "172                 1             0     1         1      1  \n",
       "173                 0             0     7         7      0  \n",
       "174                 1             0     1         1      1  \n",
       "...               ...           ...   ...       ...    ...  \n",
       "1019801             0             0     1         1      1  \n",
       "1021918             0             0    10        10      1  \n",
       "1021920             0             0     3         3      1  \n",
       "1025926             0             0     1         1      1  \n",
       "1209003             2             2    13        13      0  \n",
       "\n",
       "[38670 rows x 24 columns]"
      ]
     },
     "execution_count": 131,
     "metadata": {},
     "output_type": "execute_result"
    }
   ],
   "source": [
    "df_pulmao\n"
   ]
  },
  {
   "cell_type": "code",
   "execution_count": 1,
   "metadata": {},
   "outputs": [
    {
     "ename": "NameError",
     "evalue": "name 'df_pulmao' is not defined",
     "output_type": "error",
     "traceback": [
      "\u001b[1;31m---------------------------------------------------------------------------\u001b[0m",
      "\u001b[1;31mNameError\u001b[0m                                 Traceback (most recent call last)",
      "Cell \u001b[1;32mIn[1], line 1\u001b[0m\n\u001b[1;32m----> 1\u001b[0m \u001b[43mdf_pulmao\u001b[49m\u001b[38;5;241m.\u001b[39mcolumns\n",
      "\u001b[1;31mNameError\u001b[0m: name 'df_pulmao' is not defined"
     ]
    }
   ],
   "source": [
    "df_pulmao.columns"
   ]
  },
  {
   "cell_type": "code",
   "execution_count": 93,
   "metadata": {},
   "outputs": [
    {
     "data": {
      "text/plain": [
       "(2051, 41)"
      ]
     },
     "execution_count": 93,
     "metadata": {},
     "output_type": "execute_result"
    }
   ],
   "source": []
  },
  {
   "cell_type": "code",
   "execution_count": 119,
   "metadata": {},
   "outputs": [
    {
     "data": {
      "text/plain": [
       "Index(['INSTITU', 'DSCINST', 'ESCOLARI', 'IDADE', 'SEXO', 'IBGE', 'CATEATEND',\n",
       "       'DIAGPREV', 'TOPO', 'MORFO', 'EC', 'ECGRUP', 'NENHUM', 'CIRURGIA',\n",
       "       'RADIO', 'QUIMIO', 'IMUNO', 'OUTROS', 'NENHUMAPOS', 'CIRURAPOS',\n",
       "       'RADIOAPOS', 'QUIMIOAPOS', 'IMUNOAPOS', 'OUTROAPOS', 'ULTINFO',\n",
       "       'CONSDIAG', 'TRATCONS', 'DIAGTRAT', 'ANODIAG', 'DRS', 'IBGEATEN',\n",
       "       'DRSINST', 'RRASINST', 'CIDADEINST', 'HABILIT2', 'CONSDIAG_CAT',\n",
       "       'DIAGTRAT_CAT', 'TRATCONS_CAT', 'nDRS', 'nDRSINST', 'obito'],\n",
       "      dtype='object')"
      ]
     },
     "execution_count": 119,
     "metadata": {},
     "output_type": "execute_result"
    }
   ],
   "source": []
  }
 ],
 "metadata": {
  "kernelspec": {
   "display_name": "Python 3",
   "language": "python",
   "name": "python3"
  },
  "language_info": {
   "codemirror_mode": {
    "name": "ipython",
    "version": 3
   },
   "file_extension": ".py",
   "mimetype": "text/x-python",
   "name": "python",
   "nbconvert_exporter": "python",
   "pygments_lexer": "ipython3",
   "version": "3.11.9"
  }
 },
 "nbformat": 4,
 "nbformat_minor": 2
}
